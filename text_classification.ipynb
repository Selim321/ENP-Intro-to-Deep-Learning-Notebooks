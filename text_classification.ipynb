{
  "nbformat": 4,
  "nbformat_minor": 0,
  "metadata": {
    "colab": {
      "provenance": []
    },
    "kernelspec": {
      "name": "python3",
      "display_name": "Python 3"
    },
    "language_info": {
      "name": "python"
    }
  },
  "cells": [
    {
      "cell_type": "code",
      "execution_count": null,
      "metadata": {
        "id": "M__te2hDcJj4"
      },
      "outputs": [],
      "source": [
        "from numpy import array\n",
        "from tensorflow.keras.preprocessing.text import one_hot\n",
        "from tensorflow.keras.preprocessing.sequence import pad_sequences\n",
        "from tensorflow.keras.models import Sequential\n",
        "from tensorflow.keras.layers import Flatten,Embedding,Dense, LSTM, Bidirectional"
      ]
    },
    {
      "cell_type": "markdown",
      "source": [
        "https://medium.com/analytics-vidhya/understanding-embedding-layer-in-keras-bbe3ff1327ce"
      ],
      "metadata": {
        "id": "4mKEyRm1iZGt"
      }
    },
    {
      "cell_type": "code",
      "source": [
        "# Define 10 restaurant reviews\n",
        "reviews =[\n",
        "          'Never coming back!',\n",
        "          'horrible service',\n",
        "          'rude waitress',\n",
        "          'cold food',\n",
        "          'horrible food!',\n",
        "          'awesome',\n",
        "          'awesome services!',\n",
        "          'rocks',\n",
        "          'poor work',\n",
        "          'couldn\\'t have done better'\n",
        "]\n",
        "\n",
        "#Define labels\n",
        "labels = array([1,1,1,1,1,0,0,0,0,0])"
      ],
      "metadata": {
        "id": "bZEdH5pDcj4f"
      },
      "execution_count": null,
      "outputs": []
    },
    {
      "cell_type": "code",
      "source": [
        "Vocab_size = 50\n",
        "encoded_reviews = [one_hot(d,Vocab_size) for d in reviews]\n",
        "print(f'encoded reviews: {encoded_reviews}')"
      ],
      "metadata": {
        "colab": {
          "base_uri": "https://localhost:8080/"
        },
        "id": "nMtgYm5xctoj",
        "outputId": "9357d96c-194d-4e45-b9fd-8379e3694702"
      },
      "execution_count": null,
      "outputs": [
        {
          "output_type": "stream",
          "name": "stdout",
          "text": [
            "encoded reviews: [[2, 9, 32], [12, 25], [28, 7], [29, 15], [12, 15], [16], [16, 41], [26], [38, 43], [46, 4, 38, 29]]\n"
          ]
        }
      ]
    },
    {
      "cell_type": "code",
      "source": [
        "max_length = 4\n",
        "padded_reviews = pad_sequences(encoded_reviews,maxlen=max_length,padding='post')\n",
        "print(padded_reviews)"
      ],
      "metadata": {
        "colab": {
          "base_uri": "https://localhost:8080/"
        },
        "id": "O3t9u9Ekc0zW",
        "outputId": "59cde1a3-70e8-4d26-945c-caf39b1baa00"
      },
      "execution_count": null,
      "outputs": [
        {
          "output_type": "stream",
          "name": "stdout",
          "text": [
            "[[ 2  9 32  0]\n",
            " [12 25  0  0]\n",
            " [28  7  0  0]\n",
            " [29 15  0  0]\n",
            " [12 15  0  0]\n",
            " [16  0  0  0]\n",
            " [16 41  0  0]\n",
            " [26  0  0  0]\n",
            " [38 43  0  0]\n",
            " [46  4 38 29]]\n"
          ]
        }
      ]
    },
    {
      "cell_type": "code",
      "source": [
        "model = Sequential()\n",
        "\n",
        "model.add(Embedding(input_dim=Vocab_size, output_dim=embedding_dim))\n",
        "model.add(Bidirectional(LSTM(10, return_sequences=True)))\n",
        "model.add(Bidirectional(LSTM(5)) )\n",
        "model.add(Dense(1,activation='sigmoid'))\n",
        "model.compile(optimizer='adam',loss='binary_crossentropy',metrics=['acc'])\n",
        "print(model.summary())"
      ],
      "metadata": {
        "colab": {
          "base_uri": "https://localhost:8080/"
        },
        "id": "qXKzlGfYc_Gz",
        "outputId": "d84dfc65-fa68-4d82-f0a0-f56c3b983a68"
      },
      "execution_count": null,
      "outputs": [
        {
          "output_type": "stream",
          "name": "stdout",
          "text": [
            "Model: \"sequential_4\"\n",
            "_________________________________________________________________\n",
            " Layer (type)                Output Shape              Param #   \n",
            "=================================================================\n",
            " embedding_4 (Embedding)     (None, 4, 8)              400       \n",
            "                                                                 \n",
            " bidirectional_1 (Bidirectio  (None, 4, 20)            1520      \n",
            " nal)                                                            \n",
            "                                                                 \n",
            " bidirectional_2 (Bidirectio  (None, 10)               1040      \n",
            " nal)                                                            \n",
            "                                                                 \n",
            " dense_3 (Dense)             (None, 1)                 11        \n",
            "                                                                 \n",
            "=================================================================\n",
            "Total params: 2,971\n",
            "Trainable params: 2,971\n",
            "Non-trainable params: 0\n",
            "_________________________________________________________________\n",
            "None\n"
          ]
        }
      ]
    },
    {
      "cell_type": "code",
      "source": [
        "model = Sequential()\n",
        "embedding_layer = Embedding(input_dim=Vocab_size,output_dim=8,input_length=max_length)\n",
        "model.add(embedding_layer)\n",
        "# model.add(Bidirectional(LSTM(10, return_sequences=True)))\n",
        "# model.add(Bidirectional(LSTM(5)) )\n",
        "model.add(Flatten())\n",
        "model.add(Dense(1,activation='sigmoid'))\n",
        "model.compile(optimizer='adam',loss='binary_crossentropy',metrics=['acc'])\n",
        "print(model.summary())"
      ],
      "metadata": {
        "colab": {
          "base_uri": "https://localhost:8080/"
        },
        "id": "UDxCiNA7iChj",
        "outputId": "9b47f7aa-95ce-40c9-832f-5748e94c0a9f"
      },
      "execution_count": null,
      "outputs": [
        {
          "output_type": "stream",
          "name": "stdout",
          "text": [
            "Model: \"sequential_6\"\n",
            "_________________________________________________________________\n",
            " Layer (type)                Output Shape              Param #   \n",
            "=================================================================\n",
            " embedding_6 (Embedding)     (None, 4, 8)              400       \n",
            "                                                                 \n",
            " flatten_4 (Flatten)         (None, 32)                0         \n",
            "                                                                 \n",
            " dense_5 (Dense)             (None, 1)                 33        \n",
            "                                                                 \n",
            "=================================================================\n",
            "Total params: 433\n",
            "Trainable params: 433\n",
            "Non-trainable params: 0\n",
            "_________________________________________________________________\n",
            "None\n"
          ]
        }
      ]
    },
    {
      "cell_type": "code",
      "source": [
        "epochs=10\n",
        "batch_size = 2\n",
        "history = model.fit(padded_reviews,labels, batch_size ,epochs)"
      ],
      "metadata": {
        "colab": {
          "base_uri": "https://localhost:8080/"
        },
        "id": "38eF4EbofENL",
        "outputId": "53a090b6-e904-4172-ee4f-4fddf69dd791"
      },
      "execution_count": null,
      "outputs": [
        {
          "output_type": "stream",
          "name": "stdout",
          "text": [
            "Epoch 1/10\n",
            "5/5 [==============================] - 0s 3ms/step - loss: 0.6892 - acc: 0.5000\n",
            "Epoch 2/10\n",
            "5/5 [==============================] - 0s 3ms/step - loss: 0.6834 - acc: 0.6000\n",
            "Epoch 3/10\n",
            "5/5 [==============================] - 0s 3ms/step - loss: 0.6784 - acc: 0.7000\n",
            "Epoch 4/10\n",
            "5/5 [==============================] - 0s 3ms/step - loss: 0.6735 - acc: 0.8000\n",
            "Epoch 5/10\n",
            "5/5 [==============================] - 0s 2ms/step - loss: 0.6681 - acc: 1.0000\n",
            "Epoch 6/10\n",
            "5/5 [==============================] - 0s 3ms/step - loss: 0.6630 - acc: 1.0000\n",
            "Epoch 7/10\n",
            "5/5 [==============================] - 0s 3ms/step - loss: 0.6580 - acc: 1.0000\n",
            "Epoch 8/10\n",
            "5/5 [==============================] - 0s 3ms/step - loss: 0.6525 - acc: 1.0000\n",
            "Epoch 9/10\n",
            "5/5 [==============================] - 0s 3ms/step - loss: 0.6469 - acc: 1.0000\n",
            "Epoch 10/10\n",
            "5/5 [==============================] - 0s 2ms/step - loss: 0.6412 - acc: 1.0000\n"
          ]
        }
      ]
    },
    {
      "cell_type": "code",
      "source": [
        "import matplotlib.pyplot as plt\n",
        "\n",
        "\n",
        "history_dict = history.history\n",
        "\n",
        "loss = history_dict['loss']\n",
        "\n",
        "\n",
        "# \"bo\" is for \"blue dot\"\n",
        "plt.plot( loss,  label='Training loss')\n",
        "# b is for \"solid blue line\"\n",
        "plt.xlabel('Epochs')\n",
        "plt.ylabel('Loss')\n",
        "plt.legend()\n",
        "\n",
        "plt.show()"
      ],
      "metadata": {
        "colab": {
          "base_uri": "https://localhost:8080/",
          "height": 279
        },
        "id": "_ChBizFYgOjG",
        "outputId": "7399ffd0-1fad-44c7-eaad-711afdf1728e"
      },
      "execution_count": null,
      "outputs": [
        {
          "output_type": "display_data",
          "data": {
            "text/plain": [
              "<Figure size 432x288 with 1 Axes>"
            ],
            "image/png": "[encoded data removed]"
          },
          "metadata": {
            "needs_background": "light"
          }
        }
      ]
    }
  ]
}