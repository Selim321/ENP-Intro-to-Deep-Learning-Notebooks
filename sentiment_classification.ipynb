{
  "nbformat": 4,
  "nbformat_minor": 0,
  "metadata": {
    "colab": {
      "provenance": []
    },
    "kernelspec": {
      "name": "python3",
      "display_name": "Python 3"
    },
    "language_info": {
      "name": "python"
    }
  },
  "cells": [
    {
      "cell_type": "code",
      "source": [
        "import os\n",
        "import re\n",
        "import shutil\n",
        "import string\n",
        "import tensorflow as tf\n",
        "import matplotlib.pyplot as plt\n",
        "\n",
        "from tensorflow.keras import layers\n",
        "from tensorflow.keras import losses"
      ],
      "metadata": {
        "id": "DP_cRuy7BrA-"
      },
      "execution_count": null,
      "outputs": []
    },
    {
      "cell_type": "markdown",
      "source": [
        "Download dataset:"
      ],
      "metadata": {
        "id": "vuq19TKH2Gf1"
      }
    },
    {
      "cell_type": "code",
      "source": [
        "url = \"https://ai.stanford.edu/~amaas/data/sentiment/aclImdb_v1.tar.gz\"\n",
        "\n",
        "dataset = tf.keras.utils.get_file(\"aclImdb_v1\", url,\n",
        "                                    untar=True, cache_dir='.',\n",
        "                                    cache_subdir='')\n",
        "\n",
        "dataset_dir = os.path.join(os.path.dirname(dataset), 'aclImdb')"
      ],
      "metadata": {
        "id": "ULteylRq2JJg"
      },
      "execution_count": null,
      "outputs": []
    },
    {
      "cell_type": "code",
      "source": [
        "dataset"
      ],
      "metadata": {
        "id": "nx4dk0uY7zM4",
        "outputId": "99dc2cd1-a5a9-4fb8-c633-0834d607cd42",
        "colab": {
          "base_uri": "https://localhost:8080/",
          "height": 35
        }
      },
      "execution_count": null,
      "outputs": [
        {
          "output_type": "execute_result",
          "data": {
            "text/plain": [
              "'./aclImdb_v1'"
            ],
            "application/vnd.google.colaboratory.intrinsic+json": {
              "type": "string"
            }
          },
          "metadata": {},
          "execution_count": 30
        }
      ]
    },
    {
      "cell_type": "markdown",
      "source": [
        "Explore directories:"
      ],
      "metadata": {
        "id": "ozV95Rpd6sae"
      }
    },
    {
      "cell_type": "code",
      "source": [
        "os.listdir(dataset_dir)"
      ],
      "metadata": {
        "colab": {
          "base_uri": "https://localhost:8080/"
        },
        "id": "4lJdVxmC3EJS",
        "outputId": "151ec0ad-0399-4d22-fa69-080bf8a5b3c1"
      },
      "execution_count": null,
      "outputs": [
        {
          "output_type": "execute_result",
          "data": {
            "text/plain": [
              "['imdbEr.txt', 'imdb.vocab', 'README', 'train', 'test']"
            ]
          },
          "metadata": {},
          "execution_count": 31
        }
      ]
    },
    {
      "cell_type": "code",
      "source": [
        "train_dir = os.path.join(dataset_dir, 'train')\n",
        "os.listdir(train_dir)"
      ],
      "metadata": {
        "colab": {
          "base_uri": "https://localhost:8080/"
        },
        "id": "4NK6DTqZ3eim",
        "outputId": "7040e406-6b39-46c4-8b22-ea9775e6e300"
      },
      "execution_count": null,
      "outputs": [
        {
          "output_type": "execute_result",
          "data": {
            "text/plain": [
              "['pos',\n",
              " 'urls_unsup.txt',\n",
              " 'unsupBow.feat',\n",
              " 'urls_pos.txt',\n",
              " 'urls_neg.txt',\n",
              " 'labeledBow.feat',\n",
              " 'unsup',\n",
              " 'neg']"
            ]
          },
          "metadata": {},
          "execution_count": 32
        }
      ]
    },
    {
      "cell_type": "code",
      "source": [
        "sample_file = os.path.join(train_dir, 'pos/1181_9.txt')\n",
        "with open(sample_file) as f:\n",
        "  print(f.read())\n"
      ],
      "metadata": {
        "colab": {
          "base_uri": "https://localhost:8080/"
        },
        "id": "icFQSVfm31Nh",
        "outputId": "7cd7d499-feca-4141-ee80-4f97b29f6f4e"
      },
      "execution_count": null,
      "outputs": [
        {
          "output_type": "stream",
          "name": "stdout",
          "text": [
            "Rachel Griffiths writes and directs this award winning short film. A heartwarming story about coping with grief and cherishing the memory of those we've loved and lost. Although, only 15 minutes long, Griffiths manages to capture so much emotion and truth onto film in the short space of time. Bud Tingwell gives a touching performance as Will, a widower struggling to cope with his wife's death. Will is confronted by the harsh reality of loneliness and helplessness as he proceeds to take care of Ruth's pet cow, Tulip. The film displays the grief and responsibility one feels for those they have loved and lost. Good cinematography, great direction, and superbly acted. It will bring tears to all those who have lost a loved one, and survived.\n"
          ]
        }
      ]
    },
    {
      "cell_type": "markdown",
      "source": [
        "Load data from directories using text_dataset_from_directory\n",
        "---\n",
        "\n"
      ],
      "metadata": {
        "id": "mLQUw5VL5rtZ"
      }
    },
    {
      "cell_type": "code",
      "source": [
        "# remove the \"unsup\" folder to respect the folder structure\n",
        "remove_dir = os.path.join(train_dir, 'unsup')\n",
        "shutil.rmtree(remove_dir)"
      ],
      "metadata": {
        "id": "lSlBJ5D050pI"
      },
      "execution_count": null,
      "outputs": []
    },
    {
      "cell_type": "code",
      "source": [
        "# Create validation and training sets from the training folder\n",
        "batch_size = 32\n",
        "seed = 42\n",
        "\n",
        "raw_train_ds = tf.keras.utils.text_dataset_from_directory(\n",
        "    'aclImdb/train',\n",
        "    batch_size=batch_size,\n",
        "    validation_split=0.2,\n",
        "    subset=\"training\",\n",
        "    seed=seed)\n",
        "\n",
        "raw_val_ds = tf.keras.utils.text_dataset_from_directory(\n",
        "    'aclImdb/train',\n",
        "    batch_size=batch_size,\n",
        "    validation_split=0.2,\n",
        "    subset=\"validation\",\n",
        "    seed=seed)\n"
      ],
      "metadata": {
        "colab": {
          "base_uri": "https://localhost:8080/"
        },
        "id": "SplkRyyS8pTd",
        "outputId": "75385afa-9ae9-4417-9876-d7f45a939279"
      },
      "execution_count": null,
      "outputs": [
        {
          "output_type": "stream",
          "name": "stdout",
          "text": [
            "Found 25000 files belonging to 2 classes.\n",
            "Using 20000 files for training.\n",
            "Found 25000 files belonging to 2 classes.\n",
            "Using 5000 files for validation.\n"
          ]
        }
      ]
    },
    {
      "cell_type": "code",
      "source": [
        "# create test dataset\n",
        "raw_test_ds = tf.keras.utils.text_dataset_from_directory(\n",
        "    'aclImdb/test',\n",
        "    batch_size=batch_size)"
      ],
      "metadata": {
        "colab": {
          "base_uri": "https://localhost:8080/"
        },
        "id": "yvePZYv0Pqqh",
        "outputId": "65c1ef16-4c58-47da-b695-106969bbe10c"
      },
      "execution_count": null,
      "outputs": [
        {
          "output_type": "stream",
          "name": "stdout",
          "text": [
            "Found 25000 files belonging to 2 classes.\n"
          ]
        }
      ]
    },
    {
      "cell_type": "code",
      "source": [
        "raw_train_ds.class_names"
      ],
      "metadata": {
        "colab": {
          "base_uri": "https://localhost:8080/"
        },
        "id": "dG77HhhhEwMp",
        "outputId": "87b561e5-48dc-4aa0-9e07-e356f5d40802"
      },
      "execution_count": null,
      "outputs": [
        {
          "output_type": "execute_result",
          "data": {
            "text/plain": [
              "['neg', 'pos']"
            ]
          },
          "metadata": {},
          "execution_count": 37
        }
      ]
    },
    {
      "cell_type": "code",
      "source": [
        "raw_train_ds"
      ],
      "metadata": {
        "colab": {
          "base_uri": "https://localhost:8080/"
        },
        "id": "e1VtSNF9DdBf",
        "outputId": "72aef3b0-8457-4138-f204-176946629740"
      },
      "execution_count": null,
      "outputs": [
        {
          "output_type": "execute_result",
          "data": {
            "text/plain": [
              "<BatchDataset element_spec=(TensorSpec(shape=(None,), dtype=tf.string, name=None), TensorSpec(shape=(None,), dtype=tf.int32, name=None))>"
            ]
          },
          "metadata": {},
          "execution_count": 38
        }
      ]
    },
    {
      "cell_type": "code",
      "source": [
        "# show one batch of reviews\n",
        "for i in raw_train_ds.take(1):\n",
        "  print(i[0])"
      ],
      "metadata": {
        "id": "8tZOTbo9PQSf",
        "colab": {
          "base_uri": "https://localhost:8080/"
        },
        "outputId": "81061b19-f0e5-4836-e6a7-0fe57e1466ba"
      },
      "execution_count": null,
      "outputs": [
        {
          "output_type": "stream",
          "name": "stdout",
          "text": [
            "tf.Tensor(\n",
            "[b'\"Pandemonium\" is a horror movie spoof that comes off more stupid than funny. Believe me when I tell you, I love comedies. Especially comedy spoofs. \"Airplane\", \"The Naked Gun\" trilogy, \"Blazing Saddles\", \"High Anxiety\", and \"Spaceballs\" are some of my favorite comedies that spoof a particular genre. \"Pandemonium\" is not up there with those films. Most of the scenes in this movie had me sitting there in stunned silence because the movie wasn\\'t all that funny. There are a few laughs in the film, but when you watch a comedy, you expect to laugh a lot more than a few times and that\\'s all this film has going for it. Geez, \"Scream\" had more laughs than this film and that was more of a horror film. How bizarre is that?<br /><br />*1/2 (out of four)'\n",
            " b\"David Mamet is a very interesting and a very un-equal director. His first movie 'House of Games' was the one I liked best, and it set a series of films with characters whose perspective of life changes as they get into complicated situations, and so does the perspective of the viewer.<br /><br />So is 'Homicide' which from the title tries to set the mind of the viewer to the usual crime drama. The principal characters are two cops, one Jewish and one Irish who deal with a racially charged area. The murder of an old Jewish shop owner who proves to be an ancient veteran of the Israeli Independence war triggers the Jewish identity in the mind and heart of the Jewish detective.<br /><br />This is were the flaws of the film are the more obvious. The process of awakening is theatrical and hard to believe, the group of Jewish militants is operatic, and the way the detective eventually walks to the final violent confrontation is pathetic. The end of the film itself is Mamet-like smart, but disappoints from a human emotional perspective.<br /><br />Joe Mantegna and William Macy give strong performances, but the flaws of the story are too evident to be easily compensated.\"\n",
            " b'Great documentary about the lives of NY firefighters during the worst terrorist attack of all time.. That reason alone is why this should be a must see collectors item.. What shocked me was not only the attacks, but the\"High Fat Diet\" and physical appearance of some of these firefighters. I think a lot of Doctors would agree with me that,in the physical shape they were in, some of these firefighters would NOT of made it to the 79th floor carrying over 60 lbs of gear. Having said that i now have a greater respect for firefighters and i realize becoming a firefighter is a life altering job. The French have a history of making great documentary\\'s and that is what this is, a Great Documentary.....'\n",
            " b\"It's boggles the mind how this movie was nominated for seven Oscars and won one. Not because it's abysmal or because given the collective credentials of the creative team behind it really ought to deserve them but because in every category it was nominated Prizzi's Honor disappoints. Some would argue that old Hollywood pioneer John Huston had lost it by this point in his career but I don't buy it. Only the previous year he signed the superb UNDER THE VOLCANO, a dark character study set in Mexico, that ranks among the finest he ever did. Prizzi's Honor on the other hand, a film loaded with star power, good intentions and a decent script, proves to be a major letdown.<br /><br />The overall tone and plot of a gangster falling in love with a female hit-man prefigures the quirky crimedies that caught Hollywood by storm in the early 90's but the script is too convoluted for its own sake, the motivations are off and on the whole the story seems unsure of what exactly it's trying to be: a romantic comedy, a crime drama, a gangster saga etc. Jack Nicholson (doing a Brooklyn accent that works perfectly for De Niro but sounds unconvincing coming from Jack) and Kathleen Turner in the leading roles seem to be in paycheck mode, just going through the motions almost sleepwalking their way through some parts. Anjelica Huston on the other hand fares better but her performance is sabotaged by her character's motivations: she starts out the victim of her bigot father's disdain, she proves to be supportive to her ex-husband, then becomes a vindictive bitch that wants his head on a plate.<br /><br />The colours of the movie have a washed-up quality like it was made in the early 70's and Huston's direction is as uninteresting as everything else. There's promise behind the story and perhaps in the hands of a director hungry to be recognized it could've been morphed to something better but what's left looks like a film nobody was really interested in making.\"\n",
            " b'The concept of the legal gray area in Love Crimes contributes to about 10% of the movie\\'s appeal; the other 90% can be attributed to it\\'s flagrant bad-ness. To say that Sean Young\\'s performance as a so-called district attorney is wooden is a gross understatement. With her bland suits and superfluous hair gel, Young does a decent job at convincing the audience of her devout hatred for men. Why else would she ask her only friend to pose as a prostitute just so she can arrest cops who try to pick up on them? This hatred is also the only reason why she relentlessly pursues a perverted photographer who gives women a consensual thrill and the driving force behind this crappy movie. Watching Young go from frigid to full-frontal nudity does little to raise interest, but the temper tantrum she throws standing next to a fire by a lake does. Watching her rant and rave about her self-loathing and sexual frustration makes Love Crimes worth the rental fee, but it\\'s all downhill to and from there. Despite her urge to bring Patrick Bergin\\'s character to justice, her policing skills completely escape her in the throes of her own tired lust and passion. Patrick Bergin does a decent enough job as a slimy sociopath; if it worked in Sleeping With the Enemy it sure as hell can work in this. But I can\\'t help but wonder if the noticeable lack of energy Young brings to the film conflicts with his sliminess. I\\'m guessing it does and the result is a \"thriller\" with thrills that are thoroughly bad and yet comedic.'\n",
            " b\"This flick reminds me some really bad science-fiction movies from 50's and 60's.It is not scary or interesting,but it's dull,cheesy and stupid.Special effects are laughable,all actors are ludicrous and the ending is simply awful.Don't waste your money,rent or buy something better.I give it 3.5 out of 10( I found this turkey quite amusing because of its stupidity).\"\n",
            " b'Finally a thriller which omits the car chases, explosions and other eye catching effects. The movie combines a simple plot (assasination of a french president) with an excellent background. It takes a look behind mans behavior with authorities, and explains why we would obey almost every order (even murder) which would be given to us.<br /><br />Furthermore it shows us how secret services can manipulate the run of history and how hardly they can be controlled. The best thing on this movie is, that there is no classic \"Hollywood end\" which can easily be predicted.'\n",
            " b\"I'm a Christian who generally believes in the theology taught in Left Behind. That being said, I think Left Behind is one of the worst films I've seen in some time.<br /><br />To have a good movie, you need to have a well-written screenplay. Left Behind fell woefully short on this. For one thing, it radically deviates from the book. Sometimes this is done to condense a 400-page novel down to a two-hour film, but in this film I saw changes that made no sense whatsoever.<br /><br />Another thing, there is zero character development. When characters in the story get saved (I won't say who), the book makes it clear that it's a long, soul-searching process. In the film it's quick and artificial. The book is written decently enough where people like Rayford Steele, Buck Williams and Hattie Durham seem real, but in the movie scenarios are consistently given the quick treatment without anything substantial. In another scene where one character gets angry about being left behind (again, I won't say who), it seems artificial.<br /><br />I realize as a Christian it's unedifying for me to say I disliked this film, but I can't in a good conscience recommend a film that I feel was horribly done. Perhaps it would've been better to make the first book into 2-3 films. Either way, Christians need to realize that to be taken seriously as filmmakers, we need to start by putting together a film in a quality way. I realize a lot of effort probably went into Left Behind, but that's the way I see it.\"\n",
            " b'This effort is based on the true story of Jim Morris, a high school science teacher/baseball coach, who is inspired by his players to try out for the pros and fulfill his life-long dream of playing in the majors. Dennis Quaid, no stranger to sports films, plays Morris with enough conviction to make the part work and the producers do a credible job of recreating the real-world events that led to Morris brief stint as a relief pitcher for the woefull Tampa Bay Devil Rays. The first half of the film, dealing with his rag tag bunch of High School Baseball players (all of whom look way too old to actualy be in High School) is less effective and probably a bit too long. Overall the film does suffer from some pacing issues and a few extra subplots that we probably could have done without. However, it is still a fairly involving movie with an inspirational theme that proves once again that baseball is the national pastime for a reason. GRADE: B-'\n",
            " b\"Live Feed is set in some unnamed Chinese/Japanese Asian district somewhere as five American friends, Sarah (Ashley Schappert), Emily (Taayla Markell), Linda (Caroline Chojnacki), Mike (Lee Tichon) & Darren (Rob Scattergood) are enjoying a night on the town & taking in the sights. After a scuffle in a bar with a Japanese Triad boss (Stephen Chang) they decide to check out a porno theatre, as you would. Inside they are separated & quickly find out that the place belongs to the Triad boss who uses it to torture & kill people for reasons which aren't made clear. Can local boy Miles (Kevan Ohtsji) save them?<br /><br />This Canadian production was co-written, produced & directed by Ryan Nicholson who also gets a prosthetic effects designer credit as well, one has to say that Live Feed is another pretty poor low budget shot on a camcorder type horror film that seems to exist only to cash in on the notoriety & success of Hostel (2005) & the mini craze for 'torture porn' as it's become known. According the IMDb's 'Trivia' section for Live Feed writer & director Nicholson wrote it after hearing about certain activities taking place in live sex theatres, for my money I reckon he wrote it after watching Hostel! The script is pretty poor, there is no basic reason given as to why this porno theatre has a big fat ugly freak dressed in bondage gear lurking around torturing & killing people, none. Was it for the Triads? Was it for his pleasure? Was it to make snuff films to sell? Some sort of explanation would have been nice. Also why did he turn on the Triad boss at the end? If your looking for a film with a coherent story then forget about Live Feed. It seemed to me to be some sort of uneasy misjudged mix of sex, S&M, horror, torture, gore & action films which doesn't come off. I mean just setting a horror film in a porn theatre isn't automatically going to make your film any good, there still needs to be a decent script & story, right? The character's were fairly poor clich\\xc3\\xa9s & some of their actions & motivations were more than a little bit questionable. It moves along at a reasonable pace, it's fairly sleazy mixing gore, sex & nudity but it does look cheap which lessens the effect.<br /><br />Director Nicholson doesn't do anything special here, the editing is choppy & annoying, he seems to think lighting almost every scene with neon lights is a good idea & the film has a cheap look about it. Available in both 'R' & 'Unrated' versions I saw the shorter cut 'R' version which really isn't that gory but I am prepared to give the benefit of the doubt to the 'Unrated' version & say that it might be much, much gorier but I can't say for sure. There's a fair amount of nudity too if that's your thing. I wouldn't say there's much of an atmosphere or many scares here because there isn't & aren't respectively although it does have a sleazy tone in general which is something it has going for it I suppose.<br /><br />Technically Live Feed isn't terribly impressive, the blood looks a little too watery for my liking & entire scenes bathed in annoying neon lights sometimes makes it hard to tell whats happening, it to often looks like it was shot on a hand-held camcorder & the choppy editing at least on the 'R' rated version is at times an annoying mess. Shot on location in an actual porn theatre somewhere in Vancouver in Canada. The acting is poor, sometimes I couldn't tell if the actresses in this were supposed to be crying or laughing...<br /><br />Live Feed is not a film I would recommend anyone to rush out & buy or rent, I didn't think much of it with it's very weak predictable storyline lacking exposition & which goes nowhere, poor acting & less than impressive gore (at least in the 'R' rated cut anyway). Watch either Hostel films again or instead as they are superior.\"\n",
            " b\"It starts slowly, showing the dreary lives of the two housewives who decide to rent a castle in Italy for the month of April, but don't give up on it. Nothing much happens, but the time passes exquisitely, and there are numerous sly jokes (my favorite is the carriage ride in the storm, which I find hilarious). The movie is wonderfully romantic in many senses of the word, the scenery is beautiful (as is Polly Walker), and the resolutions in the movie are very satisfying.<br /><br />The movie takes a couple of liberties with the book, the biggest being with the Arbuthnot/Briggs/Dester business, but I actually preferred the movie's version of this (it may be more sentimental, but I felt that it was more consistent with the tone of the story, and anyway I like sentiment when it's well done).<br /><br />An excellent movie, especially as a date movie during lousy weather.\"\n",
            " b\"An uninteresting addition to the stalk 'n slash cycle which dominated the horror genre in the 1980's. This was filmed as Pranks but released as The Dorm That Dripped Blood which is an obvious steal from the 1970 horror anthology The House That Dripped Blood. Daphne Zuniga is the only recognisable face in the cast and this was her first horror movie (she has also appeared in The Initiation and The Fly II).\"\n",
            " b'There is so much that is wrong with this film, but to sum it up: Terrible acting- so bad it must have been on purpose. poor script - they may have had some good ideas but this was not the best way to present the story. ridiculously bad ending- in some cases the ending manages to save the film-not in this case. if you manage to sit through the entire film you will want to kick yourself at the end because the ending is not even worth waiting for. This is the worst film i have seen in a long time. It was complete torture sitting through this film, i would have appreciated someone warning me in advance. So do yourself a favor. Watch this film only if you have absolutely nothing better to do. Even then you will regret having put yourself through the unspeakable torture.'\n",
            " b\"I agree with the above comment, I love the realism in this, and in many movies (not just movies on eating disorders) the producers seem to forget that. They take an every day problem and create a hugely dramatic scene and then come the end of the movie everything is perfect again, which I dislike because its not reality. Not meaning to say things can't get better, and not meaning to say things don't in this movie, but it doesn't spend most of the movie creating all these problems, and come the end of the movie everything is perfect again. When people have eating disorders people don't just admit it and want to get better, and then life is peachy, it takes time, and I like how in this movie we grow with the characters, we go through the difficulties with them, getting better and worse, because it is a very important part of the movie. It gets into the minds of people with eating disorders, and shows the complications and pain, in a very realistic way, and I loved that. I also love how it shows The secrecy and betrayal people feel when suffering from eating disorders, it is scary to see how people react when they find out, especially if they approve of it. I thought this movie was very touching and beautiful and well told, and defiantly one of my favourites.\"\n",
            " b\"I came here for a review last night before deciding which TV movie to settle in front of, and those I found made this one look unmissable. How misled I feel!<br /><br />Firstly, it needs to be pointed out up front that this is very much a housewife's daytime movie. The performances are wooden, every sentence is an attempt at 'poignant' in the way that housewife's daytime movies and bad soap operas always are, and it is based in that predictable and well-trodden premise that men (particularly soldiers) are essentially violent and incompassionate. The whole movie is about the 'drama' apparent in the moments when the male characters threaten to develop a second dimension.<br /><br />If that sounds tolerable (or even enjoyable) to you, then be warned. Linda Hamilton's German accent, while quite good, is painfully distracting - as is her face, for some reason. The other performances are no doubt an enduring source of embarrassment to their perpetrators, with painfully thin and obvious characterizations being the order of the day. There are few surprises, but do watch for the 'Monty Pythonesque' endless supply of food and drink that miraculously appears from the hungry soldiers' knapsacks!<br /><br />I wasn't expecting action, but I had hoped for beautiful or textural or emotionally charged. What I got was a particularly bad Christmas 'feelgood' story that will have an intelligent audience cringing with the crapulence of it all.<br /><br />Watch it under the folowing circumstances: 1: There's nothing else on. 2: You are a fan of predictable 'housewife takes on men and wins' TV movies. 3: The only way you can appreciate a true story is when Hollywood turns it into a feature film. 4: You've imbibed enough nog that your emotions are easily stirred by unsophisticated storytelling.\"\n",
            " b\"At first, I thought the Ring would be a more than normal movie with it's ordinary plot. How surprised was I! Of course, the plot is simple - one girl is in love with two men - but Hitchcock brings it to us on a silver platter, with laughter and fear, with compassion and anguish. The way he depicts the popular crowds of the fair, the strength of the attraction of the girl to both men, the tragic elements that come together with techniques that open the mind to most of his greatest movies(North by Northwest, the Rope, etc.). The master did it great even before his thirties!\"\n",
            " b'I know the film snobs are snorting. But if you\\'re looking for a surprisingly fun ride through the B-movie jungle, try \"Jake Speed\".<br /><br />A little thin at times, but its one-liners and the location more then make up for this. John Hurt(God love him), seems to be having fun doing his role as the ultra evil white slaver. The nemesis of Crawfords, Jake Speed. He adds a dimension to the film that only a pro like Hurt could provide. Crawford and Dennis Christopher( Jakes sidekick) are a good team,although you do wonder why they both put up with each other.However ,together both Crawford and Christopher portray a team that is just so much fun that, if you can get over yourself for a moment, you may find yourself acting like a kid again at the situations and the inherent suspense they provide.The delicious Karen Kopins does a great job as the damsel in distress that is more concerned about the motives of her rescuer then her tormentor.<br /><br />I have yet to find a movie that is as much fun without getting preachy,or bogging down the movie by trying too hard. Not every movie has to be the latest \"Citizen Kane\". And trust me,Wells was an original. So lets remember that sometimes, movies are for fun.Not social commentary or attempting to sway an audience politically. But just for the sheer fun of being alive and living in a time when our hero\\'s live in a celluloid dimension.'\n",
            " b\"Ahista Ahista is one little small brilliant. I started watching it, and at the beginning I got a little bored since the pacing was slow and the main idea of one guy meeting a girl who is lost was not really new. But as the film went on, I started getting increasingly and gradually engaged by the film, the fantastic writing and the charming romance. The film was extremely simple and natural and after some time I felt I was watching a real documentation of one guy's life. There's one very good reason the film got this feel, and it's the fresh talent called Abhay Deol. He is extremely convincing as the simple, kind-hearted and struggling Ankush, whose new love motivates him to make amends and fight for a better life. Throughout the film, he is presented as an ordinary mischievous prankster, but also as a helping and loving person, who, like anyone else will do anything to protect his love. Deol portrays all the different shades of his character, whether positive or negative, naturally and with complete ease.<br /><br />Shivam Nair's direction is very good. His depiction of the life of people in the rural neighbourhood is excellent, but what gets to be even more impressive is his portrayal of Ankush's relationships with the different people who surround him, including his friends and his love interest Megha who he is ready to do anything for. I also immensely liked the way Nair portrayed his interaction with his friend's loud and plump mother whom he calls 'khala' (aunty). He likes to drive her crazy and annoy her on every occasion, yet we see that she occupies a very special place in his heart and is like a mother-figure to him as evidenced in several scenes. Except for Abhay, the rest of the cast performed well. Though Soha Ali Khan did not stand out according to me, she was good and had some of her mother's charm. The actors who played Ankush's friends were very good as was the actress who played Ankush's 'khala'.<br /><br />Apart from the performances, the film's writing was outstanding. The dialogues were sort of ordinary yet brilliant, and the script was also fantastic. That's mainly because despite a not-so-new story it was never overdone or melodramatic and there were no attempts to make it look larger-than-life. The film's biggest weakness was Himesh Reshammiya's uninspiring music which was unsuitable for this film. Otherwise, Ahista Ahista was a delightful watch and it got only better with every scene. The concept may not be new, but the film manages to look fresh and becomes increasingly heartwarming as the story goes by. The ending was bittersweet, kind of sad yet optimistic. In short, this movie really grows on you slowly, and this can be easily attributed to the wonderful writing, the moving moments, the charming romance, the realistic proceedings, and of course Abhay Deol's memorable performance.\"\n",
            " b\"This is another one of those movies that could have been great. The basic premise is good - immortal cat people who kill to live, etc. - sort of a variation on the vampire concept.<br /><br />The thing that makes it all fall apart is the total recklessness of the main characters. Even sociopaths know that you need to keep a low profile if you want to survive - look how long it took to catch the Unibomber, and that was because a family member figured it out.<br /><br />By contrast, the kid (and to a lesser extent, the mom) behave as though they're untouchable. The kid kills without a thought for not leaving evidence or a trail or a living witness. How these people managed to stay alive and undiscovered for a month is unbelievable, let alone decades or centuries.<br /><br />It's really a shame - this could have been so much more if it had been written plausibly, i.e., giving the main characters the level of common sense they would have needed to get by for so long.<br /><br />Other than that, not a bad showing. I loved the bit at the end where every cat in town converges on the house - every time I put out food on the porch and see our cats suddenly rush in from wherever they were before, I think of that scene.\"\n",
            " b'I was looking through the movie listings in my area on yahoo and seen a movie that had not been advertised. I looked closer and noticed that Peter Falk and Paul Reiser were in it. Having watched \"Mad about you\", once, I was not a fan of Paul Reiser. However, I am a big fan of Peter Falk. So the spouse and I took a chance. We were both swept into this story. The beautiful scenery, the heartfelt acting and the sense of family and moral values that are seldom seen in movies and the world today. Not that sappy emoted junk, but real life situations from real life-like people. I even have to say, Paul Reiser was excellent, although, I still won\\'t watch \"Mad about you\". I don\\'t know where this movie has gone. I heard it was put out in limited release. It should be shared with the world. It is one of the finest movies I have seen. M.'\n",
            " b\"This is one of those cheaply made TV Movies were the characters seem to lose all sense. The premise of the story, the kidnapping of a son by the boy's father,is very good. But the story just seems to beggar belief. Whenever the mother is advised not to do anything you know fine well she is going to do it. It is a bit far fetched and not worthy of a viewing.\"\n",
            " b'Great movie - especially the music - Etta James - \"At Last\". This speaks volumes when you have finally found that special someone.'\n",
            " b\"I am shocked. Shocked and dismayed that the 428 of you IMDB users who voted before me have not given this film a rating of higher than 7. 7?!?? - that's a C!. If I could give FOBH a 20, I'd gladly do it. This film ranks high atop the pantheon of modern comedy, alongside Half Baked and Mallrats, as one of the most hilarious films of all time. If you know _anything_ about rap music - YOU MUST SEE THIS!! If you know nothing about rap music - learn something!, and then see this! Comparisons to 'Spinal Tap' fail to appreciate the inspired genius of this unique film. If you liked Bob Roberts, you'll love this. Watch it and vote it a 10!\"\n",
            " b\"when my sister said this movie was gonna be good i had second thoughts but i watched it and it was actually funny. basically the movie is made of a weird girl who goes to a small town where no one likes her and she just wants to go there and get the reading of her aunts will don so she can go. but its not all that easy. In this movie you will come across hilarious humor, a witch, a book of spells/recopies, a mentally challenged uncle and a dog. You will understand the meaning of the word freak a after anyways i hope you run right out and try to find this really old movie. hope you like it in total i will have to give it a 0.... no I'm totally joking ill give it a 9 hope you understand that you will laugh, you will scream and you may just be offended.<br /><br />love yours truly: Dakota you can email me at dakota_loves_it@hot mail.com if you wanna\"\n",
            " b'From the very opening scene you will notice just how hard they tried to mimic the very smart and powerful \\'Cruel Intentions\\', and how flat it landed. You\\'ll also notice what a terrible choice they made by casting Robin Dunne as Valmont... Then in the second scene, you meet the two best things in this movie, Amy Adams and Mimi Rogers as Kathryn and her mother. That is, if you can get past the fact that Kathryn wasn\\'t blonde in the first film... Then the movie goes on, you see the cheap romantic story from miles ago, and you notice Sebastian has already met an Anette in the past, here called Danielle, and a Cecile, here called Cherie... How original is that for a prequel. Then it turns into a low budget \\'Wild Things\\' type of film with lots and lots of oh-my \"twists\". As I mentioned, Robin Dunne was a very bad choice. Not that he is a bad actor, he\\'s good.. He just doesn\\'t have the charisma Ryan did. Amy Adams, who is in my opinion one of the most talented young actresses of our time, once again delivers. But with all the talent in the world, there is no way one could save this trash. As a whole, this \"movie\" feels like a \\'Beverly Hills, 90210\\' episode. The score has been stolen from \\'Cruel Intentions\\' and \\'Jawbreaker\\'... Yes, they used the score from JAWBREAKER... Couldn\\'t they at least leave that one alone?! You\\'ll want to pass this one. If you want more Cruel Intentions, watch Stephen Frears\\' Dangerous Liaisons.'\n",
            " b\"Being a fan of silent films, I looked forward to seeing this picture for the first time. I was pretty disappointed. <br /><br />As has been mentioned, the film seems to be one long, long, commercial for the Maxwell automobile. <br /><br />Perhaps if the chase scene was about half the length that it is, I may have enjoyed the film more. But it got old very fast. And while I recognize that reality is stretched many times in films, without lessening a viewer's enjoyment, what was with the Mexican bandits? I mean, they are chasing a car through the mountains, a car that most of the time is moving at about one mile per hour, yet they can't catch up to it?\"\n",
            " b'Mr Perlman gives a standout performance (as usual). Sadly, he has to struggle with an underwritten script and some nonsensical set pieces.<br /><br />Larsen is in \"Die Hard\" mode complete with singlet and bulging muscles, I\\'m sure he could do better but seems satisfied to grimace and snarl through his part.<br /><br />The lovely Erika is very decorative (even though fully clothed!) and shows some signs of \"getting\" acting at last.<br /><br />SFX are mainly poor CGI and steals from other movies.<br /><br />The shootouts are pitiful - worthy of the A-Team<br /><br />Not even worth seeing for Perlman - AVOID'\n",
            " b\"A lot of the problem many people have with this movie is that they seem to think that the story should have been more entertaining (ignoring it is based on a true story) or ranting against a film that glorifies Che (which it really doesn't). This film is very close to Jon Anderson's definitive bio on Che and gets the story right. Soderburgh does an excellent job of setting the mood for the unraveling debacle that was Che's Bolivian adventure. You really get the impression of the total timidity and bewilderment of the Bolvian peasant to Che's revolutionary ideas or of the difficulties that his men faced with hunger and the terrain. Sorry to bore the attention challenged movie fan out there but that was how it happened. So don't go into this movie expecting a Rambo shoot em up, its a true story!\"\n",
            " b'<br /><br />Ok, well I rented this movie while I was bed ridden hopped up on pain killers, and let me say, It didn\\'t help the film any.<br /><br />The film is about a man who buys a car as he is going through a midlife crisis, he loves the car more than anything around him, one day his wife decides to borrow the car. Since I don\\'t want to spoil (not that there was anything to spoil) I shall let your imagination figure out the \"Zany\" (and I use that word lightly) antics that follow.<br /><br />I had to fight to stay awake through this snore a minute sleeper of a film, and I would like to say that if you are venturing to the movie store and are thinking about being adventurous, please don\\'t, it\\'s a waste of the film it was printed on.<br /><br />Then again I could be wrong...'\n",
            " b'This picture seemed way to slanted, it\\'s almost as bad as the drum beating of the right wing kooks who say everything is rosy in Iraq. It paints a picture so unredeemable that I can\\'t help but wonder about it\\'s legitimacy and bias. Also it seemed to meander from being about the murderous carnage of our troops to the lack of health care in the states for PTSD. To me the subject matter seemed confused, it only cared about portraying the military in a bad light, as A) an organzation that uses mind control to turn ordinary peace loving civilians into baby killers and B) an organization that once having used and spent the bodies of it\\'s soldiers then discards them to the despotic bureacracy of the V.A. This is a legitimate argument, but felt off topic for me, almost like a movie in and of itself. I felt that \"The War Tapes\" and \"Blood of my Brother\" were much more fair and let the viewer draw some conclusions of their own rather than be beaten over the head with the film makers viewpoint. F-'\n",
            " b\"I have to say I totally loved the movie. It had it's funny moments, some heartwarming parts, just all around good. Me, personally, really liked the movie because it's something that finally i can relate to my childhood. This movie, in my opinion, is geared more towards the young gay population. It shows how a young gay boy would be treated while growing up. All the taunting, name-calling, and not knowing is something I, like most other young feminine boys, will always remember, and now finally a movie that illustrates how hard it really is to grow up gay. So, I would definitely recommend seeing this movie. Probably shouldn't really watch it until a person is old and mature enough to understand it\"\n",
            " b\"Nobody said movies had to be realistic did they? I really liked this movie because I remember when I first saw it in junior high. For all the kids who remember the PMRC and albums before there were warning stickers, it's a cool story for all those kids who were part of the mid to late 80's headbanger crowd.\"], shape=(32,), dtype=string)\n"
          ]
        }
      ]
    },
    {
      "cell_type": "code",
      "source": [
        "# show one batch of corresponding labels\n",
        "for i in raw_train_ds.take(1):\n",
        "  print(i[1])"
      ],
      "metadata": {
        "colab": {
          "base_uri": "https://localhost:8080/"
        },
        "id": "aGh0rMG2HErc",
        "outputId": "7ecba881-4eef-463c-f35a-93aa65694c65"
      },
      "execution_count": null,
      "outputs": [
        {
          "output_type": "stream",
          "name": "stdout",
          "text": [
            "tf.Tensor([1 1 1 1 1 1 0 0 0 0 1 1 0 1 0 0 1 0 0 1 0 0 0 1 0 1 0 1 1 1 0 0], shape=(32,), dtype=int32)\n"
          ]
        }
      ]
    },
    {
      "cell_type": "code",
      "source": [
        "for text, label in raw_test_ds.take(1):\n",
        "  for i in range(1):\n",
        "    print(text[i])\n",
        "    print(label[i])"
      ],
      "metadata": {
        "colab": {
          "base_uri": "https://localhost:8080/"
        },
        "id": "zxIAq8wVUThS",
        "outputId": "2c89e07b-af91-4deb-e83d-8e72246c3e73"
      },
      "execution_count": null,
      "outputs": [
        {
          "output_type": "stream",
          "name": "stdout",
          "text": [
            "tf.Tensor(b\"This obviously was a pretty low budget production, but the cast was pretty decent, the basic premise had promise, and something more could have been done with it, but the script wasn't that great- the plot is incoherent and seems almost random at times and the dialog is stilted and terrible.<br /><br />Basically, a girl's father gets whacked by fellow gangsters, and later she becomes a robber, and wants to avenge his death, and then it goes into a mob protection racket involving corrupt politicians.<br /><br />Alan Ladd gets top billing but he really plays a very minor role.<br /><br />I have to say I found it mildly entertaining in its archaic B-grade hokiness but it really is shoddy and pathetic.\", shape=(), dtype=string)\n",
            "tf.Tensor(0, shape=(), dtype=int32)\n"
          ]
        }
      ]
    },
    {
      "cell_type": "markdown",
      "source": [
        "Text pre-processing\n",
        "---\n",
        "\n"
      ],
      "metadata": {
        "id": "fm1KwsogRuHX"
      }
    },
    {
      "cell_type": "code",
      "source": [
        "def custom_standardization(input_data):\n",
        "  lowercase = tf.strings.lower(input_data)\n",
        "  stripped_html = tf.strings.regex_replace(lowercase, '<br />', ' ')\n",
        "  return tf.strings.regex_replace(stripped_html,\n",
        "                                  '[%s]' % re.escape(string.punctuation),\n",
        "                                  '')"
      ],
      "metadata": {
        "id": "RTiJG_RCRxFr"
      },
      "execution_count": null,
      "outputs": []
    },
    {
      "cell_type": "markdown",
      "source": [
        "Create the pre-processing layer:"
      ],
      "metadata": {
        "id": "lXVK_xZRYIdz"
      }
    },
    {
      "cell_type": "code",
      "source": [
        "max_features = 10000\n",
        "sequence_length = 250\n",
        "\n",
        "vectorize_layer = layers.TextVectorization(\n",
        "    standardize=custom_standardization,\n",
        "    max_tokens=max_features,\n",
        "    output_mode='int',\n",
        "    output_sequence_length=sequence_length)"
      ],
      "metadata": {
        "id": "BwBGt79rVyq6"
      },
      "execution_count": null,
      "outputs": []
    },
    {
      "cell_type": "markdown",
      "source": [
        "Fit the pre-processing layer (vectorize_layer) to the training data\n"
      ],
      "metadata": {
        "id": "a2YdRzq9fCpy"
      }
    },
    {
      "cell_type": "code",
      "source": [
        "# remove labels\n",
        "train_text = raw_train_ds.map(lambda x, y: x)\n",
        "\n",
        "# fit the layer using the adapt method\n",
        "vectorize_layer.adapt(train_text)"
      ],
      "metadata": {
        "id": "2sTf8DILWJ0o"
      },
      "execution_count": null,
      "outputs": []
    },
    {
      "cell_type": "markdown",
      "source": [
        "See result of the pre-processing layer:"
      ],
      "metadata": {
        "id": "FSXnmElMlSBM"
      }
    },
    {
      "cell_type": "code",
      "source": [
        "def vectorize_text(text, label):\n",
        "  text = tf.expand_dims(text, -1)\n",
        "  return vectorize_layer(text), label"
      ],
      "metadata": {
        "id": "GXAVZQ-AmnP2"
      },
      "execution_count": null,
      "outputs": []
    },
    {
      "cell_type": "code",
      "source": [
        "# retrieve a batch (of 32 reviews and labels) from the dataset\n",
        "text_batch, label_batch = next(iter(raw_train_ds))\n",
        "\n",
        "first_review, first_label = text_batch[0], label_batch[0]\n",
        "\n",
        "print(\"Review\", first_review)\n",
        "print(\"Label\", raw_train_ds.class_names[first_label])\n",
        "\n",
        "print(\"Vectorized review\", vectorize_text(first_review, first_label))"
      ],
      "metadata": {
        "colab": {
          "base_uri": "https://localhost:8080/"
        },
        "id": "JMTrblNClX-f",
        "outputId": "e2c91538-daf6-4cc0-8b73-a9e7418e05cf"
      },
      "execution_count": null,
      "outputs": [
        {
          "output_type": "stream",
          "name": "stdout",
          "text": [
            "Review tf.Tensor(b'Belmondo is a tough cop. He goes after a big-time drug dealer (played by Henry Silva, normally a great villain - see \"Sharky\\'s Machine\"; but here he is clearly dubbed, and because of that he lacks his usual charisma). He goes to the scuzziest places of Paris and Marseilles, asks for some names, beats up some people, gets the names, goes to more scuzzy places, asks for more names, beats up more people, etc. The whole movie is punch after punch after punch. It seems that the people who made it had no other ambition than to create the French equivalent of \"Dirty Harry\". Belmondo, who was 50 here, does perform some good stunts at the beginning; apart from those, \"Le Marginal\" is a violent, episodic, trite, shallow and forgettable cop movie. (*1/2)', shape=(), dtype=string)\n",
            "Label neg\n",
            "Vectorized review (<tf.Tensor: shape=(1, 250), dtype=int64, numpy=\n",
            "array([[   1,    7,    4, 1233, 1021,   27,  261,  101,    4,    1, 1525,\n",
            "        6992,  248,   32, 1488,    1, 1659,    4,   86, 1011,   67,    1,\n",
            "        1707,   18,  128,   27,    7,  688, 2396,    3,   84,    5,   12,\n",
            "          27, 1453,   24,  616, 3314,   27,  261,    6,    2,    1, 1329,\n",
            "           5, 1371,    3,    1, 1581,   15,   46, 1356, 3612,   56,   46,\n",
            "          79,  201,    2, 1356,  261,    6,   50,    1, 1329, 1581,   15,\n",
            "          50, 1356, 3612,   56,   50,   79,  532,    2,  211,   17,    7,\n",
            "        2851,  101, 2851,  101, 2851,    9,  180,   12,    2,   79,   36,\n",
            "          90,    9,   66,   57,   78, 5415,   70,    6,  916,    2,  800,\n",
            "        4891,    5, 1678, 1347,    1,   36,   13, 1732,  128,  120, 3078,\n",
            "          46,   49, 3274,   31,    2,  435,  948,   35,  143, 3519,    1,\n",
            "           7,    4, 1097, 9578, 3092, 2056,    3, 2512, 1021,   17, 1105,\n",
            "           0,    0,    0,    0,    0,    0,    0,    0,    0,    0,    0,\n",
            "           0,    0,    0,    0,    0,    0,    0,    0,    0,    0,    0,\n",
            "           0,    0,    0,    0,    0,    0,    0,    0,    0,    0,    0,\n",
            "           0,    0,    0,    0,    0,    0,    0,    0,    0,    0,    0,\n",
            "           0,    0,    0,    0,    0,    0,    0,    0,    0,    0,    0,\n",
            "           0,    0,    0,    0,    0,    0,    0,    0,    0,    0,    0,\n",
            "           0,    0,    0,    0,    0,    0,    0,    0,    0,    0,    0,\n",
            "           0,    0,    0,    0,    0,    0,    0,    0,    0,    0,    0,\n",
            "           0,    0,    0,    0,    0,    0,    0,    0,    0,    0,    0,\n",
            "           0,    0,    0,    0,    0,    0,    0,    0,    0,    0,    0,\n",
            "           0,    0,    0,    0,    0,    0,    0,    0]])>, <tf.Tensor: shape=(), dtype=int32, numpy=0>)\n"
          ]
        }
      ]
    },
    {
      "cell_type": "code",
      "source": [
        "print(\"48 ---> \",vectorize_layer.get_vocabulary()[48])\n",
        "\n",
        "print('Vocabulary size: {}'.format(len(vectorize_layer.get_vocabulary())))"
      ],
      "metadata": {
        "colab": {
          "base_uri": "https://localhost:8080/"
        },
        "id": "wnYLYgO5n0fi",
        "outputId": "51d6493b-1f2a-4c95-fc13-ef8178be9d1c"
      },
      "execution_count": null,
      "outputs": [
        {
          "output_type": "stream",
          "name": "stdout",
          "text": [
            "48 --->  what\n",
            "Vocabulary size: 10000\n"
          ]
        }
      ]
    },
    {
      "cell_type": "code",
      "source": [
        "vectorize_layer.get_vocabulary()[:10]"
      ],
      "metadata": {
        "colab": {
          "base_uri": "https://localhost:8080/"
        },
        "id": "vu_Pix7M_YWS",
        "outputId": "a5e3c6bf-7dc6-4287-dd12-3a4a1b6c5cbe"
      },
      "execution_count": null,
      "outputs": [
        {
          "output_type": "execute_result",
          "data": {
            "text/plain": [
              "['', '[UNK]', 'the', 'and', 'a', 'of', 'to', 'is', 'in', 'it']"
            ]
          },
          "metadata": {},
          "execution_count": 48
        }
      ]
    },
    {
      "cell_type": "markdown",
      "source": [
        "Apply the pre-processing layer all the sets:"
      ],
      "metadata": {
        "id": "WM5S85gCApUj"
      }
    },
    {
      "cell_type": "code",
      "source": [
        "train_ds = raw_train_ds.map(vectorize_text)\n",
        "val_ds = raw_val_ds.map(vectorize_text)\n",
        "test_ds = raw_test_ds.map(vectorize_text)"
      ],
      "metadata": {
        "id": "AJuIsGH8Aujc"
      },
      "execution_count": null,
      "outputs": []
    },
    {
      "cell_type": "markdown",
      "source": [
        "Pipeline optimization:"
      ],
      "metadata": {
        "id": "tTqKFwD1DIE1"
      }
    },
    {
      "cell_type": "code",
      "source": [
        "AUTOTUNE = tf.data.AUTOTUNE\n",
        "\n",
        "train_ds = train_ds.cache().prefetch(buffer_size=AUTOTUNE)\n",
        "val_ds = val_ds.cache().prefetch(buffer_size=AUTOTUNE)\n",
        "test_ds = test_ds.cache().prefetch(buffer_size=AUTOTUNE)"
      ],
      "metadata": {
        "id": "e_8Mf6sHDShs"
      },
      "execution_count": null,
      "outputs": []
    },
    {
      "cell_type": "markdown",
      "source": [
        "Create the model\n",
        "---\n",
        "\n"
      ],
      "metadata": {
        "id": "LSHTcTJZDryW"
      }
    },
    {
      "cell_type": "code",
      "source": [
        "embedding_dim = 16\n",
        "\n",
        "model = tf.keras.Sequential([\n",
        "  layers.Embedding(max_features + 1, embedding_dim),\n",
        "  layers.Dropout(0.2),\n",
        "  layers.GlobalAveragePooling1D(),\n",
        "  layers.Dropout(0.2),\n",
        "  layers.Dense(1)])\n",
        "\n",
        "model.summary()"
      ],
      "metadata": {
        "colab": {
          "base_uri": "https://localhost:8080/"
        },
        "id": "Ymh1Vc07DyHO",
        "outputId": "b8d141de-3113-47e3-85d9-90b6a56aeaa6"
      },
      "execution_count": null,
      "outputs": [
        {
          "output_type": "stream",
          "name": "stdout",
          "text": [
            "Model: \"sequential_1\"\n",
            "_________________________________________________________________\n",
            " Layer (type)                Output Shape              Param #   \n",
            "=================================================================\n",
            " embedding_1 (Embedding)     (None, None, 16)          160016    \n",
            "                                                                 \n",
            " dropout_2 (Dropout)         (None, None, 16)          0         \n",
            "                                                                 \n",
            " global_average_pooling1d_1   (None, 16)               0         \n",
            " (GlobalAveragePooling1D)                                        \n",
            "                                                                 \n",
            " dropout_3 (Dropout)         (None, 16)                0         \n",
            "                                                                 \n",
            " dense_1 (Dense)             (None, 1)                 17        \n",
            "                                                                 \n",
            "=================================================================\n",
            "Total params: 160,033\n",
            "Trainable params: 160,033\n",
            "Non-trainable params: 0\n",
            "_________________________________________________________________\n"
          ]
        }
      ]
    },
    {
      "cell_type": "markdown",
      "source": [
        "Define loss function and optimizer:"
      ],
      "metadata": {
        "id": "fN-RZLUzE4x6"
      }
    },
    {
      "cell_type": "code",
      "source": [
        "model.compile(loss=losses.BinaryCrossentropy(from_logits=True),\n",
        "              optimizer='adam',\n",
        "              metrics=tf.metrics.BinaryAccuracy(threshold=0.0))"
      ],
      "metadata": {
        "id": "XLe0dANREw_p"
      },
      "execution_count": null,
      "outputs": []
    },
    {
      "cell_type": "markdown",
      "source": [
        "Train the model:"
      ],
      "metadata": {
        "id": "7_I4Ibv3E8uA"
      }
    },
    {
      "cell_type": "code",
      "source": [
        "epochs = 10\n",
        "history = model.fit(\n",
        "    train_ds,\n",
        "    validation_data=val_ds,\n",
        "    epochs=epochs)"
      ],
      "metadata": {
        "colab": {
          "base_uri": "https://localhost:8080/"
        },
        "id": "-JsIkYqFE99Z",
        "outputId": "4135e0fe-9b89-46fc-fdbf-8cc83574f7d4"
      },
      "execution_count": null,
      "outputs": [
        {
          "output_type": "stream",
          "name": "stdout",
          "text": [
            "Epoch 1/10\n",
            "625/625 [==============================] - 11s 16ms/step - loss: 0.6641 - binary_accuracy: 0.6918 - val_loss: 0.6147 - val_binary_accuracy: 0.7758\n",
            "Epoch 2/10\n",
            "625/625 [==============================] - 5s 8ms/step - loss: 0.5484 - binary_accuracy: 0.8017 - val_loss: 0.4977 - val_binary_accuracy: 0.8212\n",
            "Epoch 3/10\n",
            "625/625 [==============================] - 5s 9ms/step - loss: 0.4441 - binary_accuracy: 0.8443 - val_loss: 0.4198 - val_binary_accuracy: 0.8464\n",
            "Epoch 4/10\n",
            "625/625 [==============================] - 5s 9ms/step - loss: 0.3779 - binary_accuracy: 0.8656 - val_loss: 0.3734 - val_binary_accuracy: 0.8590\n",
            "Epoch 5/10\n",
            "625/625 [==============================] - 5s 9ms/step - loss: 0.3358 - binary_accuracy: 0.8791 - val_loss: 0.3448 - val_binary_accuracy: 0.8674\n",
            "Epoch 6/10\n",
            "625/625 [==============================] - 5s 8ms/step - loss: 0.3052 - binary_accuracy: 0.8881 - val_loss: 0.3261 - val_binary_accuracy: 0.8720\n",
            "Epoch 7/10\n",
            "625/625 [==============================] - 5s 8ms/step - loss: 0.2807 - binary_accuracy: 0.8982 - val_loss: 0.3126 - val_binary_accuracy: 0.8734\n",
            "Epoch 8/10\n",
            "625/625 [==============================] - 5s 8ms/step - loss: 0.2615 - binary_accuracy: 0.9049 - val_loss: 0.3032 - val_binary_accuracy: 0.8750\n",
            "Epoch 9/10\n",
            "625/625 [==============================] - 5s 8ms/step - loss: 0.2456 - binary_accuracy: 0.9097 - val_loss: 0.2963 - val_binary_accuracy: 0.8780\n",
            "Epoch 10/10\n",
            "625/625 [==============================] - 5s 8ms/step - loss: 0.2314 - binary_accuracy: 0.9155 - val_loss: 0.2918 - val_binary_accuracy: 0.8804\n"
          ]
        }
      ]
    },
    {
      "cell_type": "markdown",
      "source": [
        "Visulalize training performance:"
      ],
      "metadata": {
        "id": "kcoxFp2EGVdK"
      }
    },
    {
      "cell_type": "code",
      "source": [
        "history_dict = history.history\n",
        "\n",
        "acc = history_dict['binary_accuracy']\n",
        "val_acc = history_dict['val_binary_accuracy']\n",
        "loss = history_dict['loss']\n",
        "val_loss = history_dict['val_loss']\n",
        "\n",
        "epochs = range(1, len(acc) + 1)\n",
        "\n",
        "# \"bo\" is for \"blue dot\"\n",
        "plt.plot(epochs, loss, 'bo', label='Training loss')\n",
        "# b is for \"solid blue line\"\n",
        "plt.plot(epochs, val_loss, 'b', label='Validation loss')\n",
        "plt.title('Training and validation loss')\n",
        "plt.xlabel('Epochs')\n",
        "plt.ylabel('Loss')\n",
        "plt.legend()\n",
        "\n",
        "plt.show()"
      ],
      "metadata": {
        "colab": {
          "base_uri": "https://localhost:8080/",
          "height": 295
        },
        "id": "fsRyjhvvGZsz",
        "outputId": "c9985100-df12-4672-d8a3-fa38de5ddb4b"
      },
      "execution_count": null,
      "outputs": [
        {
          "output_type": "display_data",
          "data": {
            "text/plain": [
              "<Figure size 432x288 with 1 Axes>"
            ],
            "image/png": "[encoded data removed]"
          },
          "metadata": {
            "needs_background": "light"
          }
        }
      ]
    },
    {
      "cell_type": "markdown",
      "source": [
        "Evaluate the model on test data:"
      ],
      "metadata": {
        "id": "MvSw9PydGrAd"
      }
    },
    {
      "cell_type": "code",
      "source": [
        "loss, accuracy = model.evaluate(test_ds)\n",
        "\n",
        "print(\"Loss: \", loss)\n",
        "print(\"Accuracy: \", accuracy)"
      ],
      "metadata": {
        "colab": {
          "base_uri": "https://localhost:8080/"
        },
        "id": "eog7tuHUGv4Z",
        "outputId": "288f0456-f585-497c-be14-f8c2a3e40e01"
      },
      "execution_count": null,
      "outputs": [
        {
          "output_type": "stream",
          "name": "stdout",
          "text": [
            "782/782 [==============================] - 8s 11ms/step - loss: 0.3097 - binary_accuracy: 0.8738\n",
            "Loss:  0.3097192049026489\n",
            "Accuracy:  0.8737599849700928\n"
          ]
        }
      ]
    },
    {
      "cell_type": "markdown",
      "source": [
        "Inference on new data\n",
        "---\n",
        "\n"
      ],
      "metadata": {
        "id": "XrPwUF8Nh-O1"
      }
    },
    {
      "cell_type": "markdown",
      "source": [
        "Export model:"
      ],
      "metadata": {
        "id": "SBFA-JYbkqhq"
      }
    },
    {
      "cell_type": "code",
      "source": [
        "export_model = tf.keras.Sequential([\n",
        "  vectorize_layer,\n",
        "  model,\n",
        "  layers.Activation('sigmoid')\n",
        "])\n",
        "\n",
        "export_model.compile(\n",
        "    loss=losses.BinaryCrossentropy(from_logits=False), optimizer=\"adam\", metrics=['accuracy']\n",
        ")\n",
        "\n",
        "# Test it with `raw_test_ds`, which yields raw strings\n",
        "loss, accuracy = export_model.evaluate(raw_test_ds)\n",
        "print(accuracy)"
      ],
      "metadata": {
        "colab": {
          "base_uri": "https://localhost:8080/"
        },
        "id": "NcQ6tfFpiR_q",
        "outputId": "558a8a26-68ec-44e0-bf3d-7f210736f3d3"
      },
      "execution_count": null,
      "outputs": [
        {
          "output_type": "stream",
          "name": "stdout",
          "text": [
            "782/782 [==============================] - 10s 12ms/step - loss: 0.3097 - accuracy: 0.8738\n",
            "0.8737599849700928\n"
          ]
        }
      ]
    },
    {
      "cell_type": "markdown",
      "source": [
        "Inference on new data:"
      ],
      "metadata": {
        "id": "bBGDRRZ6kuje"
      }
    },
    {
      "cell_type": "code",
      "source": [
        "examples = [\n",
        "  \"The movie was great!\",\n",
        "  \"The movie was okay.\",\n",
        "  \"The movie was terrible...\"\n",
        "]\n",
        "\n",
        "export_model.predict(examples)"
      ],
      "metadata": {
        "colab": {
          "base_uri": "https://localhost:8080/"
        },
        "id": "iVUtJvEhkxW1",
        "outputId": "9e27e034-9575-4e3d-833a-45035e7f0bab"
      },
      "execution_count": null,
      "outputs": [
        {
          "output_type": "stream",
          "name": "stdout",
          "text": [
            "1/1 [==============================] - 0s 161ms/step\n"
          ]
        },
        {
          "output_type": "execute_result",
          "data": {
            "text/plain": [
              "array([[0.65236694],\n",
              "       [0.47977355],\n",
              "       [0.39432266]], dtype=float32)"
            ]
          },
          "metadata": {},
          "execution_count": 57
        }
      ]
    }
  ]
}