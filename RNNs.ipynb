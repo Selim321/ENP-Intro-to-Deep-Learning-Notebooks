{
  "nbformat": 4,
  "nbformat_minor": 0,
  "metadata": {
    "colab": {
      "provenance": []
    },
    "kernelspec": {
      "name": "python3",
      "display_name": "Python 3"
    },
    "language_info": {
      "name": "python"
    }
  },
  "cells": [
    {
      "cell_type": "code",
      "execution_count": null,
      "metadata": {
        "id": "TGEhsl8RX1CF"
      },
      "outputs": [],
      "source": [
        "import tensorflow as tf\n",
        "from tensorflow import keras\n",
        "from keras.layers import SimpleRNN, Input, Dense"
      ]
    },
    {
      "cell_type": "markdown",
      "source": [
        "RNN\n",
        "---\n",
        "\n"
      ],
      "metadata": {
        "id": "IZPUmyxkmJKX"
      }
    },
    {
      "cell_type": "markdown",
      "source": [
        "SimpleRNN cell:"
      ],
      "metadata": {
        "id": "MLTWdquxmPhl"
      }
    },
    {
      "cell_type": "code",
      "source": [
        "model = keras.Sequential()\n",
        "Tx = 30\n",
        "n_features = 3 #vector length\n",
        "n_units = 32\n",
        "\n",
        "model.add(Input(shape=(Tx, n_features)))\n",
        "model.add(SimpleRNN(n_units,activation='tanh'))\n",
        "\n",
        "model.summary()"
      ],
      "metadata": {
        "colab": {
          "base_uri": "https://localhost:8080/"
        },
        "id": "rMDrlBL7YCKr",
        "outputId": "de43abe6-9bf4-4351-e801-c95f5ac3ca56"
      },
      "execution_count": null,
      "outputs": [
        {
          "output_type": "stream",
          "name": "stdout",
          "text": [
            "Model: \"sequential_2\"\n",
            "_________________________________________________________________\n",
            " Layer (type)                Output Shape              Param #   \n",
            "=================================================================\n",
            " simple_rnn_2 (SimpleRNN)    (None, 32)                1152      \n",
            "                                                                 \n",
            "=================================================================\n",
            "Total params: 1,152\n",
            "Trainable params: 1,152\n",
            "Non-trainable params: 0\n",
            "_________________________________________________________________\n"
          ]
        }
      ]
    },
    {
      "cell_type": "markdown",
      "source": [
        "Adding the output:"
      ],
      "metadata": {
        "id": "fpOdvzTomWU0"
      }
    },
    {
      "cell_type": "code",
      "source": [
        "model = keras.Sequential()\n",
        "Tx = 30\n",
        "n_features = 3 #vector length\n",
        "n_units = 32\n",
        "\n",
        "model.add(Input(shape=(Tx, n_features)))\n",
        "model.add(SimpleRNN(n_units,activation='tanh'))\n",
        "model.add(Dense(1, activation='sigmoid'))\n",
        "\n",
        "model.summary()"
      ],
      "metadata": {
        "colab": {
          "base_uri": "https://localhost:8080/"
        },
        "id": "5qPdcuHNmaZw",
        "outputId": "5b810b19-cddc-4e76-a599-cbd01125fddb"
      },
      "execution_count": null,
      "outputs": [
        {
          "output_type": "stream",
          "name": "stdout",
          "text": [
            "Model: \"sequential_3\"\n",
            "_________________________________________________________________\n",
            " Layer (type)                Output Shape              Param #   \n",
            "=================================================================\n",
            " simple_rnn_3 (SimpleRNN)    (None, 32)                1152      \n",
            "                                                                 \n",
            " dense (Dense)               (None, 1)                 33        \n",
            "                                                                 \n",
            "=================================================================\n",
            "Total params: 1,185\n",
            "Trainable params: 1,185\n",
            "Non-trainable params: 0\n",
            "_________________________________________________________________\n"
          ]
        }
      ]
    },
    {
      "cell_type": "markdown",
      "source": [
        "2 layers RNN:"
      ],
      "metadata": {
        "id": "Fvsb9DbUpAV7"
      }
    },
    {
      "cell_type": "code",
      "source": [
        "model = keras.Sequential()\n",
        "Tx = 30\n",
        "n_features = 3 #vector length\n",
        "n_units = 32\n",
        "\n",
        "model.add(Input(shape=(Tx, n_features)))\n",
        "model.add(SimpleRNN(n_units,activation='tanh', return_sequences=True))\n",
        "model.add(SimpleRNN(n_units,activation='tanh'))\n",
        "\n",
        "model.add(Dense(1, activation='sigmoid'))\n",
        "\n",
        "model.summary()"
      ],
      "metadata": {
        "colab": {
          "base_uri": "https://localhost:8080/"
        },
        "id": "Gdm3_fevpEaU",
        "outputId": "67de0bf4-006f-4818-85c9-dc68fefd79d4"
      },
      "execution_count": null,
      "outputs": [
        {
          "output_type": "stream",
          "name": "stdout",
          "text": [
            "Model: \"sequential_12\"\n",
            "_________________________________________________________________\n",
            " Layer (type)                Output Shape              Param #   \n",
            "=================================================================\n",
            " simple_rnn_20 (SimpleRNN)   (None, 30, 32)            1152      \n",
            "                                                                 \n",
            " simple_rnn_21 (SimpleRNN)   (None, 32)                2080      \n",
            "                                                                 \n",
            " dense_8 (Dense)             (None, 1)                 33        \n",
            "                                                                 \n",
            "=================================================================\n",
            "Total params: 3,265\n",
            "Trainable params: 3,265\n",
            "Non-trainable params: 0\n",
            "_________________________________________________________________\n"
          ]
        }
      ]
    }
  ]
}