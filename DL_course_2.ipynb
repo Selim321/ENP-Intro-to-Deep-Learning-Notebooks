{
  "nbformat": 4,
  "nbformat_minor": 0,
  "metadata": {
    "colab": {
      "provenance": []
    },
    "kernelspec": {
      "name": "python3",
      "display_name": "Python 3"
    },
    "language_info": {
      "name": "python"
    }
  },
  "cells": [
    {
      "cell_type": "code",
      "execution_count": null,
      "metadata": {
        "id": "Qx5gR23eNFep"
      },
      "outputs": [],
      "source": [
        "import numpy as np\n",
        "import matplotlib.pyplot as plt\n",
        "import tensorflow as tf"
      ]
    },
    {
      "cell_type": "code",
      "source": [
        "x = np.array([1,2,3])\n",
        "y = np.array([4,5,6])\n",
        "\n",
        "dotp = np.dot(x,y)\n",
        "print(dotp)\n",
        "\n",
        "mult = x*y\n",
        "print(mult)"
      ],
      "metadata": {
        "colab": {
          "base_uri": "https://localhost:8080/"
        },
        "id": "HjC90O8BK6T_",
        "outputId": "c9ef18cd-b03c-463d-c13f-f151db28cc78"
      },
      "execution_count": null,
      "outputs": [
        {
          "output_type": "stream",
          "name": "stdout",
          "text": [
            "32\n",
            "[ 4 10 18]\n"
          ]
        }
      ]
    },
    {
      "cell_type": "code",
      "source": [
        "# Sampling from a unifrom distribution\n",
        "\n",
        "d = np.random.rand(3,3)\n",
        "d<0.5"
      ],
      "metadata": {
        "colab": {
          "base_uri": "https://localhost:8080/"
        },
        "id": "5x1r1zSsO4FL",
        "outputId": "dec3b0e7-3900-403e-c86d-f0efd63735aa"
      },
      "execution_count": null,
      "outputs": [
        {
          "output_type": "execute_result",
          "data": {
            "text/plain": [
              "array([[ True, False, False],\n",
              "       [ True,  True,  True],\n",
              "       [False, False, False]])"
            ]
          },
          "metadata": {},
          "execution_count": 7
        }
      ]
    },
    {
      "cell_type": "markdown",
      "source": [
        "Average computer\n",
        "---\n",
        "\n"
      ],
      "metadata": {
        "id": "nfYH4mOIEfTr"
      }
    },
    {
      "cell_type": "code",
      "source": [
        "n_samples = 300\n",
        "x = np.random.randint(-50, 50, n_samples)\n",
        "\n",
        "input_shape = (3,1)\n",
        "output_shape = (1,1)\n",
        "batch_size = int(np.floor(n_samples/input_shape[0]))\n",
        "X = x.reshape(-1, input_shape[0], input_shape[1])\n",
        "\n",
        "Y = np.zeros((batch_size, output_shape[1]))\n",
        "for i in range(batch_size - 2):\n",
        "  Y[i,:] = np.mean(X[i,:,:])"
      ],
      "metadata": {
        "id": "QvvjdVDPEksS"
      },
      "execution_count": null,
      "outputs": []
    },
    {
      "cell_type": "code",
      "source": [
        "X[0,0,0]"
      ],
      "metadata": {
        "colab": {
          "base_uri": "https://localhost:8080/"
        },
        "id": "1htYE-ghLoW3",
        "outputId": "de6bbc40-73f1-487c-f5f3-abde066713b0"
      },
      "execution_count": null,
      "outputs": [
        {
          "output_type": "execute_result",
          "data": {
            "text/plain": [
              "-8"
            ]
          },
          "metadata": {},
          "execution_count": 38
        }
      ]
    },
    {
      "cell_type": "code",
      "source": [
        "X[0]"
      ],
      "metadata": {
        "colab": {
          "base_uri": "https://localhost:8080/"
        },
        "id": "xN1jT4G3Miij",
        "outputId": "afc94dfd-1a0c-4f4a-ef1f-d12c685b5408"
      },
      "execution_count": null,
      "outputs": [
        {
          "output_type": "execute_result",
          "data": {
            "text/plain": [
              "array([[ -8],\n",
              "       [-21],\n",
              "       [-31]])"
            ]
          },
          "metadata": {},
          "execution_count": 39
        }
      ]
    },
    {
      "cell_type": "code",
      "source": [
        "np.mean(X[0])"
      ],
      "metadata": {
        "colab": {
          "base_uri": "https://localhost:8080/"
        },
        "id": "HeJBXLREMtzz",
        "outputId": "c174fb15-5ef0-439f-eed3-f52bb3482f21"
      },
      "execution_count": null,
      "outputs": [
        {
          "output_type": "execute_result",
          "data": {
            "text/plain": [
              "-20.0"
            ]
          },
          "metadata": {},
          "execution_count": 40
        }
      ]
    },
    {
      "cell_type": "code",
      "source": [
        "Y[0]"
      ],
      "metadata": {
        "colab": {
          "base_uri": "https://localhost:8080/"
        },
        "id": "xUx8jW0iL1Ru",
        "outputId": "597ab176-ec5c-4509-d4af-b34984eb9580"
      },
      "execution_count": null,
      "outputs": [
        {
          "output_type": "execute_result",
          "data": {
            "text/plain": [
              "array([-20.])"
            ]
          },
          "metadata": {},
          "execution_count": 41
        }
      ]
    },
    {
      "cell_type": "code",
      "source": [
        "# Data partitionning\n",
        "train_ratio = 0.8\n",
        "train_size = int(np.floor(n_samples * train_ratio))\n",
        "X_train = X[:train_size]\n",
        "Y_train = Y[:train_size]\n",
        "X_val = X[train_size:]\n",
        "Y_val = X[train_size:]"
      ],
      "metadata": {
        "id": "X9LAZkfvOfG5"
      },
      "execution_count": null,
      "outputs": []
    },
    {
      "cell_type": "code",
      "source": [
        "# Model\n",
        "def layer(n_units, act_func, input):\n",
        "  weights = np.random.randn(n_units, input.shape[0])\n",
        "  bias = 0\n",
        "  Z = np.dot(weights, input) + bias\n",
        "\n",
        "  if act_func == 'linear':\n",
        "    return Z\n",
        "  else : return Z"
      ],
      "metadata": {
        "id": "H7rTItp4Ra0V"
      },
      "execution_count": null,
      "outputs": []
    },
    {
      "cell_type": "code",
      "source": [
        "# Weights initialization\n",
        "w = np.random.randn(5,5)\n",
        "w.shape"
      ],
      "metadata": {
        "colab": {
          "base_uri": "https://localhost:8080/"
        },
        "id": "ZSjVc5xdQLaS",
        "outputId": "b080c23a-f917-4689-9fc8-bf5a4bda5564"
      },
      "execution_count": null,
      "outputs": [
        {
          "output_type": "execute_result",
          "data": {
            "text/plain": [
              "(5, 5)"
            ]
          },
          "metadata": {},
          "execution_count": 47
        }
      ]
    }
  ]
}