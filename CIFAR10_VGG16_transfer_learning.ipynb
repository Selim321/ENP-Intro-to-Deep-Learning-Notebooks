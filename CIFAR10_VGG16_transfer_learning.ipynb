{
  "cells": [
    {
      "cell_type": "code",
      "execution_count": null,
      "metadata": {
        "id": "Khrh8ahLHWGI"
      },
      "outputs": [],
      "source": [
        "import tensorflow as tf\n",
        "from tensorflow import keras\n",
        "import numpy as np\n",
        "import matplotlib.pyplot as plt"
      ]
    },
    {
      "cell_type": "code",
      "execution_count": null,
      "metadata": {
        "id": "q33jhL09IBix",
        "colab": {
          "base_uri": "https://localhost:8080/"
        },
        "outputId": "854c61c8-4d80-4e5e-94e2-51fca05fdf64"
      },
      "outputs": [
        {
          "output_type": "stream",
          "name": "stdout",
          "text": [
            "Downloading data from https://www.cs.toronto.edu/~kriz/cifar-10-python.tar.gz\n",
            "170498071/170498071 [==============================] - 14s 0us/step\n"
          ]
        }
      ],
      "source": [
        "cifar10 = tf.keras.datasets.cifar10\n",
        "(x_train, y_train), (x_val, y_val) = cifar10.load_data()"
      ]
    },
    {
      "cell_type": "code",
      "execution_count": null,
      "metadata": {
        "id": "PZKj6VEWK4ux"
      },
      "outputs": [],
      "source": [
        "x_train, x_val = x_train/255, x_val/255"
      ]
    },
    {
      "cell_type": "markdown",
      "source": [
        "Import pre-trained model:"
      ],
      "metadata": {
        "id": "5C8zFe_Nx8b9"
      }
    },
    {
      "cell_type": "code",
      "execution_count": null,
      "metadata": {
        "colab": {
          "base_uri": "https://localhost:8080/"
        },
        "id": "GvwkFEcOJVB5",
        "outputId": "2ba9a6a2-0b47-4adb-a6db-841a4d93d7a6"
      },
      "outputs": [
        {
          "output_type": "stream",
          "name": "stdout",
          "text": [
            "Downloading data from https://storage.googleapis.com/tensorflow/keras-applications/vgg16/vgg16_weights_tf_dim_ordering_tf_kernels_notop.h5\n",
            "58889256/58889256 [==============================] - 3s 0us/step\n",
            "Model: \"vgg16\"\n",
            "_________________________________________________________________\n",
            " Layer (type)                Output Shape              Param #   \n",
            "=================================================================\n",
            " input_1 (InputLayer)        [(None, 32, 32, 3)]       0         \n",
            "                                                                 \n",
            " block1_conv1 (Conv2D)       (None, 32, 32, 64)        1792      \n",
            "                                                                 \n",
            " block1_conv2 (Conv2D)       (None, 32, 32, 64)        36928     \n",
            "                                                                 \n",
            " block1_pool (MaxPooling2D)  (None, 16, 16, 64)        0         \n",
            "                                                                 \n",
            " block2_conv1 (Conv2D)       (None, 16, 16, 128)       73856     \n",
            "                                                                 \n",
            " block2_conv2 (Conv2D)       (None, 16, 16, 128)       147584    \n",
            "                                                                 \n",
            " block2_pool (MaxPooling2D)  (None, 8, 8, 128)         0         \n",
            "                                                                 \n",
            " block3_conv1 (Conv2D)       (None, 8, 8, 256)         295168    \n",
            "                                                                 \n",
            " block3_conv2 (Conv2D)       (None, 8, 8, 256)         590080    \n",
            "                                                                 \n",
            " block3_conv3 (Conv2D)       (None, 8, 8, 256)         590080    \n",
            "                                                                 \n",
            " block3_pool (MaxPooling2D)  (None, 4, 4, 256)         0         \n",
            "                                                                 \n",
            " block4_conv1 (Conv2D)       (None, 4, 4, 512)         1180160   \n",
            "                                                                 \n",
            " block4_conv2 (Conv2D)       (None, 4, 4, 512)         2359808   \n",
            "                                                                 \n",
            " block4_conv3 (Conv2D)       (None, 4, 4, 512)         2359808   \n",
            "                                                                 \n",
            " block4_pool (MaxPooling2D)  (None, 2, 2, 512)         0         \n",
            "                                                                 \n",
            " block5_conv1 (Conv2D)       (None, 2, 2, 512)         2359808   \n",
            "                                                                 \n",
            " block5_conv2 (Conv2D)       (None, 2, 2, 512)         2359808   \n",
            "                                                                 \n",
            " block5_conv3 (Conv2D)       (None, 2, 2, 512)         2359808   \n",
            "                                                                 \n",
            " block5_pool (MaxPooling2D)  (None, 1, 1, 512)         0         \n",
            "                                                                 \n",
            "=================================================================\n",
            "Total params: 14,714,688\n",
            "Trainable params: 14,714,688\n",
            "Non-trainable params: 0\n",
            "_________________________________________________________________\n"
          ]
        }
      ],
      "source": [
        "vgg_model = keras.applications.vgg16.VGG16(weights='imagenet',\n",
        "include_top=False, input_shape=(32,32,3) )\n",
        "\n",
        "\n",
        "vgg_model.summary()"
      ]
    },
    {
      "cell_type": "markdown",
      "source": [
        "Create seqential model and copy layers from the imported pre-trained model:"
      ],
      "metadata": {
        "id": "JG7tQvLiyHbS"
      }
    },
    {
      "cell_type": "code",
      "source": [
        "# model = keras.models.Sequential()\n",
        "# for layer in vgg_model.layers[0:-5]:\n",
        "#   model.add(layer)\n",
        "\n",
        "# model.summary()"
      ],
      "metadata": {
        "id": "7paRrwRVuPv-"
      },
      "execution_count": null,
      "outputs": []
    },
    {
      "cell_type": "markdown",
      "source": [
        "With data augmentation:"
      ],
      "metadata": {
        "id": "M2rZgj59uQLT"
      }
    },
    {
      "cell_type": "code",
      "execution_count": null,
      "metadata": {
        "id": "V2AdYxUeLflr",
        "colab": {
          "base_uri": "https://localhost:8080/"
        },
        "outputId": "655ebd2d-4c8b-4158-93c5-e73bc195064c"
      },
      "outputs": [
        {
          "output_type": "stream",
          "name": "stdout",
          "text": [
            "Model: \"sequential\"\n",
            "_________________________________________________________________\n",
            " Layer (type)                Output Shape              Param #   \n",
            "=================================================================\n",
            " random_rotation (RandomRota  (None, 32, 32, 3)        0         \n",
            " tion)                                                           \n",
            "                                                                 \n",
            " block1_conv1 (Conv2D)       (None, 32, 32, 64)        1792      \n",
            "                                                                 \n",
            " block1_conv2 (Conv2D)       (None, 32, 32, 64)        36928     \n",
            "                                                                 \n",
            " block1_pool (MaxPooling2D)  (None, 16, 16, 64)        0         \n",
            "                                                                 \n",
            " block2_conv1 (Conv2D)       (None, 16, 16, 128)       73856     \n",
            "                                                                 \n",
            " block2_conv2 (Conv2D)       (None, 16, 16, 128)       147584    \n",
            "                                                                 \n",
            " block2_pool (MaxPooling2D)  (None, 8, 8, 128)         0         \n",
            "                                                                 \n",
            " block3_conv1 (Conv2D)       (None, 8, 8, 256)         295168    \n",
            "                                                                 \n",
            " block3_conv2 (Conv2D)       (None, 8, 8, 256)         590080    \n",
            "                                                                 \n",
            " block3_conv3 (Conv2D)       (None, 8, 8, 256)         590080    \n",
            "                                                                 \n",
            " block3_pool (MaxPooling2D)  (None, 4, 4, 256)         0         \n",
            "                                                                 \n",
            " block4_conv1 (Conv2D)       (None, 4, 4, 512)         1180160   \n",
            "                                                                 \n",
            " block4_conv2 (Conv2D)       (None, 4, 4, 512)         2359808   \n",
            "                                                                 \n",
            " block4_conv3 (Conv2D)       (None, 4, 4, 512)         2359808   \n",
            "                                                                 \n",
            "=================================================================\n",
            "Total params: 7,635,264\n",
            "Trainable params: 7,635,264\n",
            "Non-trainable params: 0\n",
            "_________________________________________________________________\n"
          ]
        }
      ],
      "source": [
        "model = keras.models.Sequential()\n",
        "model.add(keras.layers.RandomRotation(0.2, input_shape=(32,32,3)))\n",
        "# model.add(keras.layers.RandomFlip()\n",
        "for layer in vgg_model.layers[1:-5]:\n",
        "  model.add(layer)\n",
        "\n",
        "model.summary()"
      ]
    },
    {
      "cell_type": "markdown",
      "source": [
        "Freeze layers (without fine-tuning):"
      ],
      "metadata": {
        "id": "rKG1cLr2txYk"
      }
    },
    {
      "cell_type": "code",
      "source": [
        "# for layer in model.layers:\n",
        "#   layer.trainable = False\n",
        "\n",
        "# model.summary()"
      ],
      "metadata": {
        "id": "VPWSkwYutyAT"
      },
      "execution_count": null,
      "outputs": []
    },
    {
      "cell_type": "markdown",
      "source": [
        "Fine tuning:"
      ],
      "metadata": {
        "id": "-YDRQ4jXyhT4"
      }
    },
    {
      "cell_type": "code",
      "execution_count": null,
      "metadata": {
        "id": "CKzSyfCnMYrO",
        "colab": {
          "base_uri": "https://localhost:8080/"
        },
        "outputId": "2b65aae2-da5d-47ee-de4e-e16be475187e"
      },
      "outputs": [
        {
          "output_type": "stream",
          "name": "stdout",
          "text": [
            "Model: \"sequential\"\n",
            "_________________________________________________________________\n",
            " Layer (type)                Output Shape              Param #   \n",
            "=================================================================\n",
            " random_rotation (RandomRota  (None, 32, 32, 3)        0         \n",
            " tion)                                                           \n",
            "                                                                 \n",
            " block1_conv1 (Conv2D)       (None, 32, 32, 64)        1792      \n",
            "                                                                 \n",
            " block1_conv2 (Conv2D)       (None, 32, 32, 64)        36928     \n",
            "                                                                 \n",
            " block1_pool (MaxPooling2D)  (None, 16, 16, 64)        0         \n",
            "                                                                 \n",
            " block2_conv1 (Conv2D)       (None, 16, 16, 128)       73856     \n",
            "                                                                 \n",
            " block2_conv2 (Conv2D)       (None, 16, 16, 128)       147584    \n",
            "                                                                 \n",
            " block2_pool (MaxPooling2D)  (None, 8, 8, 128)         0         \n",
            "                                                                 \n",
            " block3_conv1 (Conv2D)       (None, 8, 8, 256)         295168    \n",
            "                                                                 \n",
            " block3_conv2 (Conv2D)       (None, 8, 8, 256)         590080    \n",
            "                                                                 \n",
            " block3_conv3 (Conv2D)       (None, 8, 8, 256)         590080    \n",
            "                                                                 \n",
            " block3_pool (MaxPooling2D)  (None, 4, 4, 256)         0         \n",
            "                                                                 \n",
            " block4_conv1 (Conv2D)       (None, 4, 4, 512)         1180160   \n",
            "                                                                 \n",
            " block4_conv2 (Conv2D)       (None, 4, 4, 512)         2359808   \n",
            "                                                                 \n",
            " block4_conv3 (Conv2D)       (None, 4, 4, 512)         2359808   \n",
            "                                                                 \n",
            "=================================================================\n",
            "Total params: 7,635,264\n",
            "Trainable params: 4,719,616\n",
            "Non-trainable params: 2,915,648\n",
            "_________________________________________________________________\n"
          ]
        }
      ],
      "source": [
        "for layer in model.layers[:-2]:\n",
        "  layer.trainable = False\n",
        "\n",
        "model.summary()\n"
      ]
    },
    {
      "cell_type": "markdown",
      "source": [
        "Add classification layers:"
      ],
      "metadata": {
        "id": "DcpvTJ-3yp_5"
      }
    },
    {
      "cell_type": "code",
      "execution_count": null,
      "metadata": {
        "colab": {
          "base_uri": "https://localhost:8080/"
        },
        "id": "c4SJ1ZE3M5-3",
        "outputId": "6e63b869-4e61-4515-d628-e6a7f7f628ba"
      },
      "outputs": [
        {
          "output_type": "stream",
          "name": "stdout",
          "text": [
            "Model: \"sequential\"\n",
            "_________________________________________________________________\n",
            " Layer (type)                Output Shape              Param #   \n",
            "=================================================================\n",
            " random_rotation (RandomRota  (None, 32, 32, 3)        0         \n",
            " tion)                                                           \n",
            "                                                                 \n",
            " block1_conv1 (Conv2D)       (None, 32, 32, 64)        1792      \n",
            "                                                                 \n",
            " block1_conv2 (Conv2D)       (None, 32, 32, 64)        36928     \n",
            "                                                                 \n",
            " block1_pool (MaxPooling2D)  (None, 16, 16, 64)        0         \n",
            "                                                                 \n",
            " block2_conv1 (Conv2D)       (None, 16, 16, 128)       73856     \n",
            "                                                                 \n",
            " block2_conv2 (Conv2D)       (None, 16, 16, 128)       147584    \n",
            "                                                                 \n",
            " block2_pool (MaxPooling2D)  (None, 8, 8, 128)         0         \n",
            "                                                                 \n",
            " block3_conv1 (Conv2D)       (None, 8, 8, 256)         295168    \n",
            "                                                                 \n",
            " block3_conv2 (Conv2D)       (None, 8, 8, 256)         590080    \n",
            "                                                                 \n",
            " block3_conv3 (Conv2D)       (None, 8, 8, 256)         590080    \n",
            "                                                                 \n",
            " block3_pool (MaxPooling2D)  (None, 4, 4, 256)         0         \n",
            "                                                                 \n",
            " block4_conv1 (Conv2D)       (None, 4, 4, 512)         1180160   \n",
            "                                                                 \n",
            " block4_conv2 (Conv2D)       (None, 4, 4, 512)         2359808   \n",
            "                                                                 \n",
            " block4_conv3 (Conv2D)       (None, 4, 4, 512)         2359808   \n",
            "                                                                 \n",
            " flatten (Flatten)           (None, 8192)              0         \n",
            "                                                                 \n",
            " dense (Dense)               (None, 1024)              8389632   \n",
            "                                                                 \n",
            " dense_1 (Dense)             (None, 256)               262400    \n",
            "                                                                 \n",
            " dense_2 (Dense)             (None, 256)               65792     \n",
            "                                                                 \n",
            " dense_3 (Dense)             (None, 10)                2570      \n",
            "                                                                 \n",
            "=================================================================\n",
            "Total params: 16,355,658\n",
            "Trainable params: 13,440,010\n",
            "Non-trainable params: 2,915,648\n",
            "_________________________________________________________________\n"
          ]
        }
      ],
      "source": [
        "from keras.layers import Dense, Flatten, Dropout, BatchNormalization\n",
        "from keras.regularizers import l2, l1\n",
        "\n",
        "reg_rate = 1e-3\n",
        "\n",
        "model.add(Flatten())\n",
        "BatchNormalization()\n",
        "model.add(Dense(1024, activation = 'relu', kernel_regularizer=l2(reg_rate)))\n",
        "Dropout(0.5)\n",
        "BatchNormalization()\n",
        "model.add(Dense(256, activation = 'relu', kernel_regularizer=l2(reg_rate)))\n",
        "Dropout(0.5)\n",
        "BatchNormalization()\n",
        "model.add(Dense(256, activation = 'relu', kernel_regularizer=l2(reg_rate)))\n",
        "Dropout(0.5)\n",
        "\n",
        "model.add(Dense(10, activation = 'softmax'))\n",
        "\n",
        "model.summary()"
      ]
    },
    {
      "cell_type": "code",
      "execution_count": null,
      "metadata": {
        "id": "bvnyiyTJNnB7"
      },
      "outputs": [],
      "source": [
        "loss = keras.losses.SparseCategoricalCrossentropy()\n",
        "# optimizer = keras.optimizers.Adam(.001)\n",
        "optimizer = keras.optimizers.SGD(learning_rate=.001,momentum=.9)\n",
        "metrics = ['accuracy']\n",
        "\n",
        "model.compile(optimizer, loss, metrics)"
      ]
    },
    {
      "cell_type": "code",
      "source": [
        "from keras.callbacks import ReduceLROnPlateau\n",
        "\n",
        "lrr= ReduceLROnPlateau(\n",
        "                       monitor='val_accuracy', #Metric to be measured\n",
        "                       factor=.1, #Factor by which learning rate will be reduced\n",
        "                       patience=2,  #No. of epochs after which if there is no improvement in the val_acc, the learning rate is reduced\n",
        "                       min_lr=1e-6) #The minimum learning rate\n",
        "\n",
        "from keras.callbacks import EarlyStopping\n",
        "\n",
        "earlyStop = EarlyStopping(monitor='val_accuracy',\n",
        "                          patience=3)"
      ],
      "metadata": {
        "id": "yENkIWnX5Rir"
      },
      "execution_count": null,
      "outputs": []
    },
    {
      "cell_type": "code",
      "execution_count": null,
      "metadata": {
        "colab": {
          "base_uri": "https://localhost:8080/"
        },
        "id": "3-FG6Q4HOIPc",
        "outputId": "d436bd6f-7aac-4d0b-89ce-1eb8d7315d44"
      },
      "outputs": [
        {
          "output_type": "stream",
          "name": "stdout",
          "text": [
            "Epoch 1/30\n",
            "1563/1563 [==============================] - 36s 18ms/step - loss: 3.3463 - accuracy: 0.6747 - val_loss: 3.1051 - val_accuracy: 0.7351 - lr: 0.0010\n",
            "Epoch 2/30\n",
            "1563/1563 [==============================] - 26s 17ms/step - loss: 2.8965 - accuracy: 0.7801 - val_loss: 2.9054 - val_accuracy: 0.7553 - lr: 0.0010\n",
            "Epoch 3/30\n",
            "1563/1563 [==============================] - 26s 16ms/step - loss: 2.6117 - accuracy: 0.8356 - val_loss: 2.7310 - val_accuracy: 0.7813 - lr: 0.0010\n",
            "Epoch 4/30\n",
            "1563/1563 [==============================] - 25s 16ms/step - loss: 2.3655 - accuracy: 0.8792 - val_loss: 2.6296 - val_accuracy: 0.7819 - lr: 0.0010\n",
            "Epoch 5/30\n",
            "1563/1563 [==============================] - 25s 16ms/step - loss: 2.1454 - accuracy: 0.9175 - val_loss: 2.5993 - val_accuracy: 0.7763 - lr: 0.0010\n",
            "Epoch 6/30\n",
            "1563/1563 [==============================] - 25s 16ms/step - loss: 1.9600 - accuracy: 0.9467 - val_loss: 2.5676 - val_accuracy: 0.7769 - lr: 0.0010\n",
            "Epoch 7/30\n",
            "1563/1563 [==============================] - 25s 16ms/step - loss: 1.7934 - accuracy: 0.9883 - val_loss: 2.5057 - val_accuracy: 0.8088 - lr: 1.0000e-04\n",
            "Epoch 8/30\n",
            "1563/1563 [==============================] - 25s 16ms/step - loss: 1.7563 - accuracy: 0.9973 - val_loss: 2.5285 - val_accuracy: 0.8075 - lr: 1.0000e-04\n",
            "Epoch 9/30\n",
            "1563/1563 [==============================] - 26s 16ms/step - loss: 1.7392 - accuracy: 0.9987 - val_loss: 2.5553 - val_accuracy: 0.8078 - lr: 1.0000e-04\n",
            "Epoch 10/30\n",
            "1563/1563 [==============================] - 25s 16ms/step - loss: 1.7297 - accuracy: 0.9995 - val_loss: 2.5580 - val_accuracy: 0.8069 - lr: 1.0000e-05\n"
          ]
        }
      ],
      "source": [
        "batch_size = 32\n",
        "epochs = 30\n",
        "\n",
        "history = model.fit(x_train, y_train, batch_size, epochs,\n",
        "          validation_data = (x_val, y_val), callbacks=[lrr,earlyStop])"
      ]
    },
    {
      "cell_type": "code",
      "source": [
        "loss = history.history['loss']\n",
        "val_loss = history.history['val_loss']\n",
        "accuracy = history.history['accuracy']\n",
        "val_accuracy = history.history['val_accuracy']\n",
        "\n",
        "plt.plot(loss)\n",
        "plt.plot(val_loss)\n",
        "\n",
        "plt.figure()\n",
        "\n",
        "plt.plot(accuracy)\n",
        "plt.plot(val_accuracy)"
      ],
      "metadata": {
        "colab": {
          "base_uri": "https://localhost:8080/",
          "height": 532
        },
        "id": "1jDN0jE3bAQ6",
        "outputId": "c36566a5-c4a7-4203-fb73-4d16a7cedf94"
      },
      "execution_count": null,
      "outputs": [
        {
          "output_type": "execute_result",
          "data": {
            "text/plain": [
              "[<matplotlib.lines.Line2D at 0x7f61e65c38d0>]"
            ]
          },
          "metadata": {},
          "execution_count": 13
        },
        {
          "output_type": "display_data",
          "data": {
            "text/plain": [
              "<Figure size 432x288 with 1 Axes>"
            ],
            "image/png": "[encoded data removed]"
          },
          "metadata": {
            "needs_background": "light"
          }
        },
        {
          "output_type": "display_data",
          "data": {
            "text/plain": [
              "<Figure size 432x288 with 1 Axes>"
            ],
            "image/png": "[encoded data removed]"
          },
          "metadata": {
            "needs_background": "light"
          }
        }
      ]
    }
  ],
  "metadata": {
    "accelerator": "GPU",
    "colab": {
      "provenance": []
    },
    "gpuClass": "standard",
    "kernelspec": {
      "display_name": "Python 3",
      "name": "python3"
    },
    "language_info": {
      "name": "python"
    }
  },
  "nbformat": 4,
  "nbformat_minor": 0
}