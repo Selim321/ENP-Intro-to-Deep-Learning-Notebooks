{
  "nbformat": 4,
  "nbformat_minor": 0,
  "metadata": {
    "colab": {
      "provenance": []
    },
    "kernelspec": {
      "name": "python3",
      "display_name": "Python 3"
    },
    "language_info": {
      "name": "python"
    },
    "accelerator": "GPU",
    "gpuClass": "standard"
  },
  "cells": [
    {
      "cell_type": "code",
      "execution_count": null,
      "metadata": {
        "id": "Bsn6bwtUO2vb"
      },
      "outputs": [],
      "source": [
        "import tensorflow as tf\n",
        "from tensorflow import keras\n",
        "import numpy as np\n",
        "import matplotlib.pyplot as plt"
      ]
    },
    {
      "cell_type": "markdown",
      "source": [
        "Import and partition data\n",
        "---\n",
        "\n"
      ],
      "metadata": {
        "id": "7RNbu203P1X6"
      }
    },
    {
      "cell_type": "markdown",
      "source": [
        "https://www.cs.toronto.edu/~kriz/cifar.html"
      ],
      "metadata": {
        "id": "K5YawoUWcK1O"
      }
    },
    {
      "cell_type": "code",
      "source": [
        "cifar = keras.datasets.cifar10\n",
        "(x_train, y_train), (x_test, y_test) = cifar.load_data()"
      ],
      "metadata": {
        "colab": {
          "base_uri": "https://localhost:8080/"
        },
        "id": "DjRTIeXsPERI",
        "outputId": "931187ce-e077-4284-f07c-a4e77e25f68e"
      },
      "execution_count": null,
      "outputs": [
        {
          "output_type": "stream",
          "name": "stdout",
          "text": [
            "Downloading data from https://www.cs.toronto.edu/~kriz/cifar-10-python.tar.gz\n",
            "170498071/170498071 [==============================] - 14s 0us/step\n"
          ]
        }
      ]
    },
    {
      "cell_type": "code",
      "source": [
        "x_train.shape"
      ],
      "metadata": {
        "colab": {
          "base_uri": "https://localhost:8080/"
        },
        "id": "AvGvzGGlTOhq",
        "outputId": "2959a1f4-b0e0-47a2-f1ad-5747428ddd63"
      },
      "execution_count": null,
      "outputs": [
        {
          "output_type": "execute_result",
          "data": {
            "text/plain": [
              "(50000, 32, 32, 3)"
            ]
          },
          "metadata": {},
          "execution_count": 3
        }
      ]
    },
    {
      "cell_type": "code",
      "source": [
        "y_train.shape"
      ],
      "metadata": {
        "colab": {
          "base_uri": "https://localhost:8080/"
        },
        "id": "75HkcWAYhU8J",
        "outputId": "71af35b1-3639-4fb6-f531-e46b97d2d12d"
      },
      "execution_count": null,
      "outputs": [
        {
          "output_type": "execute_result",
          "data": {
            "text/plain": [
              "(50000, 1)"
            ]
          },
          "metadata": {},
          "execution_count": 4
        }
      ]
    },
    {
      "cell_type": "code",
      "source": [
        "plt.imshow(x_train[0,:,:,:])"
      ],
      "metadata": {
        "colab": {
          "base_uri": "https://localhost:8080/",
          "height": 283
        },
        "id": "JpGQ6o1SQqAY",
        "outputId": "808a7fc0-1056-4eb6-a159-1c6ab4717b72"
      },
      "execution_count": null,
      "outputs": [
        {
          "output_type": "execute_result",
          "data": {
            "text/plain": [
              "<matplotlib.image.AxesImage at 0x7f63610e4790>"
            ]
          },
          "metadata": {},
          "execution_count": 5
        },
        {
          "output_type": "display_data",
          "data": {
            "text/plain": [
              "<Figure size 432x288 with 1 Axes>"
            ],
            "image/png": "[encoded data removed]"
          },
          "metadata": {
            "needs_background": "light"
          }
        }
      ]
    },
    {
      "cell_type": "code",
      "source": [
        "x_train[0,:,:,2]"
      ],
      "metadata": {
        "colab": {
          "base_uri": "https://localhost:8080/"
        },
        "id": "OIgSHtMjaKC3",
        "outputId": "8dfaafae-d190-4498-e270-3885790b3d77"
      },
      "execution_count": null,
      "outputs": [
        {
          "output_type": "execute_result",
          "data": {
            "text/plain": [
              "array([[ 63,  45,  43, ..., 108, 102, 103],\n",
              "       [ 20,   0,   0, ...,  55,  50,  57],\n",
              "       [ 21,   0,   8, ...,  50,  50,  42],\n",
              "       ...,\n",
              "       [ 96,  34,  26, ...,  70,   7,  20],\n",
              "       [ 96,  42,  30, ...,  94,  34,  34],\n",
              "       [116,  94,  87, ..., 140,  84,  72]], dtype=uint8)"
            ]
          },
          "metadata": {},
          "execution_count": 6
        }
      ]
    },
    {
      "cell_type": "code",
      "source": [
        "x_train[0,1].shape"
      ],
      "metadata": {
        "colab": {
          "base_uri": "https://localhost:8080/"
        },
        "id": "HKLQI9RVSpB0",
        "outputId": "a91c6baa-d2cb-4580-a414-fb8af8e89383"
      },
      "execution_count": null,
      "outputs": [
        {
          "output_type": "execute_result",
          "data": {
            "text/plain": [
              "(32, 3)"
            ]
          },
          "metadata": {},
          "execution_count": 7
        }
      ]
    },
    {
      "cell_type": "markdown",
      "source": [
        "Data pre-processing\n",
        "---\n",
        "\n"
      ],
      "metadata": {
        "id": "nKbpMbO0QJ8z"
      }
    },
    {
      "cell_type": "markdown",
      "source": [
        "Data scaling"
      ],
      "metadata": {
        "id": "BvjvhOy0RIJS"
      }
    },
    {
      "cell_type": "code",
      "source": [
        "x_train = x_train/255\n",
        "x_test = x_test/255\n",
        "plt.imshow(x_train[1])"
      ],
      "metadata": {
        "colab": {
          "base_uri": "https://localhost:8080/",
          "height": 283
        },
        "id": "5q6BJqhUQQfS",
        "outputId": "bcf5ce08-0fbe-481e-ff23-6c2bfd2dae1c"
      },
      "execution_count": null,
      "outputs": [
        {
          "output_type": "execute_result",
          "data": {
            "text/plain": [
              "<matplotlib.image.AxesImage at 0x7f6360c44e50>"
            ]
          },
          "metadata": {},
          "execution_count": 8
        },
        {
          "output_type": "display_data",
          "data": {
            "text/plain": [
              "<Figure size 432x288 with 1 Axes>"
            ],
            "image/png": "[encoded data removed]"
          },
          "metadata": {
            "needs_background": "light"
          }
        }
      ]
    },
    {
      "cell_type": "markdown",
      "source": [
        "DL model\n",
        "---\n",
        "\n"
      ],
      "metadata": {
        "id": "9s0AkaeBhfV3"
      }
    },
    {
      "cell_type": "markdown",
      "source": [
        "Data augmentaion"
      ],
      "metadata": {
        "id": "ypgiVv8-s9an"
      }
    },
    {
      "cell_type": "code",
      "source": [
        "from keras import layers\n",
        "data_augmentation = tf.keras.Sequential([\n",
        "  layers.RandomFlip(\"horizontal_and_vertical\"),\n",
        "  layers.RandomRotation(0.2),\n",
        "])"
      ],
      "metadata": {
        "id": "WBGrafvZtCDh"
      },
      "execution_count": null,
      "outputs": []
    },
    {
      "cell_type": "code",
      "source": [
        "from keras.regularizers import l2\n",
        "\n",
        "# without data augmentation\n",
        "model = keras.Sequential([\n",
        "\n",
        "    keras.layers.Conv2D(32, 3, padding='same', activation='relu', input_shape=(32,32,3)),\n",
        "    keras.layers.AveragePooling2D(pool_size=2,strides=1),\n",
        "\n",
        "    keras.layers.Conv2D(64, (3,3), padding='same', activation='relu'),\n",
        "    keras.layers.AveragePooling2D((2,2)),\n",
        "\n",
        "    keras.layers.Conv2D(128, (3,3), activation='relu'),\n",
        "    keras.layers.AveragePooling2D((2,2)),\n",
        "\n",
        "    keras.layers.Conv2D(256, (3,3), activation='relu'),\n",
        "    keras.layers.AveragePooling2D((2,2)),\n",
        "\n",
        "    keras.layers.Flatten(),\n",
        "    keras.layers.Dense(1024, activation='relu', kernel_regularizer=l2(0.1)),\n",
        "    keras.layers.Dropout(0.5),\n",
        "\n",
        "    keras.layers.Dense(512, activation='relu', kernel_regularizer=l2(0.1)),\n",
        "    keras.layers.Dropout(0.5),\n",
        "\n",
        "    keras.layers.Dense(10, activation = 'softmax')\n",
        "\n",
        "])\n",
        "\n",
        "model.summary()"
      ],
      "metadata": {
        "colab": {
          "base_uri": "https://localhost:8080/"
        },
        "id": "63HjWjcjhikh",
        "outputId": "1eb9dcc5-82fd-4297-ce2e-36f914e1a701"
      },
      "execution_count": null,
      "outputs": [
        {
          "output_type": "stream",
          "name": "stdout",
          "text": [
            "Model: \"sequential_20\"\n",
            "_________________________________________________________________\n",
            " Layer (type)                Output Shape              Param #   \n",
            "=================================================================\n",
            " conv2d_80 (Conv2D)          (None, 32, 32, 32)        896       \n",
            "                                                                 \n",
            " average_pooling2d_75 (Avera  (None, 31, 31, 32)       0         \n",
            " gePooling2D)                                                    \n",
            "                                                                 \n",
            " conv2d_81 (Conv2D)          (None, 31, 31, 64)        18496     \n",
            "                                                                 \n",
            " average_pooling2d_76 (Avera  (None, 15, 15, 64)       0         \n",
            " gePooling2D)                                                    \n",
            "                                                                 \n",
            " conv2d_82 (Conv2D)          (None, 13, 13, 128)       73856     \n",
            "                                                                 \n",
            " average_pooling2d_77 (Avera  (None, 6, 6, 128)        0         \n",
            " gePooling2D)                                                    \n",
            "                                                                 \n",
            " conv2d_83 (Conv2D)          (None, 4, 4, 256)         295168    \n",
            "                                                                 \n",
            " average_pooling2d_78 (Avera  (None, 2, 2, 256)        0         \n",
            " gePooling2D)                                                    \n",
            "                                                                 \n",
            " flatten_20 (Flatten)        (None, 1024)              0         \n",
            "                                                                 \n",
            " dense_59 (Dense)            (None, 1024)              1049600   \n",
            "                                                                 \n",
            " dropout_43 (Dropout)        (None, 1024)              0         \n",
            "                                                                 \n",
            " dense_60 (Dense)            (None, 512)               524800    \n",
            "                                                                 \n",
            " dropout_44 (Dropout)        (None, 512)               0         \n",
            "                                                                 \n",
            " dense_61 (Dense)            (None, 10)                5130      \n",
            "                                                                 \n",
            "=================================================================\n",
            "Total params: 1,967,946\n",
            "Trainable params: 1,967,946\n",
            "Non-trainable params: 0\n",
            "_________________________________________________________________\n"
          ]
        }
      ]
    },
    {
      "cell_type": "code",
      "source": [
        "loss = keras.losses.SparseCategoricalCrossentropy()\n",
        "optimizer = keras.optimizers.Adam()\n",
        "metrics = ['accuracy']\n",
        "\n",
        "model.compile(optimizer, loss, metrics)"
      ],
      "metadata": {
        "id": "UzkyJFr6ka01"
      },
      "execution_count": null,
      "outputs": []
    },
    {
      "cell_type": "markdown",
      "source": [
        "Training\n",
        "---\n",
        "\n"
      ],
      "metadata": {
        "id": "7CsR2BrGlj7u"
      }
    },
    {
      "cell_type": "code",
      "source": [
        "batch_size = 32\n",
        "epochs = 50\n",
        "\n",
        "history = model.fit(x_train, y_train, batch_size=batch_size, epochs=epochs,\n",
        "                    validation_data=(x_test, y_test),\n",
        "                    validation_batch_size = batch_size)"
      ],
      "metadata": {
        "colab": {
          "base_uri": "https://localhost:8080/"
        },
        "id": "_HtAVoFYlf9J",
        "outputId": "d37f3fb1-be81-4903-a15b-887007bfdc60"
      },
      "execution_count": null,
      "outputs": [
        {
          "output_type": "stream",
          "name": "stdout",
          "text": [
            "Epoch 1/50\n",
            "1563/1563 [==============================] - 12s 7ms/step - loss: 3.8769 - accuracy: 0.1741 - val_loss: 1.9584 - val_accuracy: 0.2408\n",
            "Epoch 2/50\n",
            "1563/1563 [==============================] - 10s 7ms/step - loss: 1.9387 - accuracy: 0.2724 - val_loss: 1.8143 - val_accuracy: 0.3315\n",
            "Epoch 3/50\n",
            "1563/1563 [==============================] - 11s 7ms/step - loss: 1.8424 - accuracy: 0.3404 - val_loss: 1.7052 - val_accuracy: 0.3785\n",
            "Epoch 4/50\n",
            "1563/1563 [==============================] - 11s 7ms/step - loss: 1.7490 - accuracy: 0.3898 - val_loss: 1.6005 - val_accuracy: 0.4466\n",
            "Epoch 5/50\n",
            "1563/1563 [==============================] - 10s 7ms/step - loss: 1.6615 - accuracy: 0.4295 - val_loss: 1.5069 - val_accuracy: 0.4607\n",
            "Epoch 6/50\n",
            "1563/1563 [==============================] - 10s 7ms/step - loss: 1.5931 - accuracy: 0.4556 - val_loss: 1.4552 - val_accuracy: 0.4979\n",
            "Epoch 7/50\n",
            "1563/1563 [==============================] - 11s 7ms/step - loss: 1.5520 - accuracy: 0.4761 - val_loss: 1.4612 - val_accuracy: 0.5196\n",
            "Epoch 8/50\n",
            "1563/1563 [==============================] - 11s 7ms/step - loss: 1.5131 - accuracy: 0.5045 - val_loss: 1.3858 - val_accuracy: 0.5475\n",
            "Epoch 9/50\n",
            "1563/1563 [==============================] - 10s 7ms/step - loss: 1.4769 - accuracy: 0.5258 - val_loss: 1.4152 - val_accuracy: 0.5381\n",
            "Epoch 10/50\n",
            "1563/1563 [==============================] - 10s 7ms/step - loss: 1.4475 - accuracy: 0.5444 - val_loss: 1.3392 - val_accuracy: 0.5779\n",
            "Epoch 11/50\n",
            "1563/1563 [==============================] - 11s 7ms/step - loss: 1.4148 - accuracy: 0.5606 - val_loss: 1.3166 - val_accuracy: 0.5814\n",
            "Epoch 12/50\n",
            "1563/1563 [==============================] - 11s 7ms/step - loss: 1.3831 - accuracy: 0.5723 - val_loss: 1.2799 - val_accuracy: 0.5984\n",
            "Epoch 13/50\n",
            "1563/1563 [==============================] - 11s 7ms/step - loss: 1.3545 - accuracy: 0.5871 - val_loss: 1.3029 - val_accuracy: 0.5974\n",
            "Epoch 14/50\n",
            "1563/1563 [==============================] - 11s 7ms/step - loss: 1.3271 - accuracy: 0.5957 - val_loss: 1.2397 - val_accuracy: 0.6257\n",
            "Epoch 15/50\n",
            "1563/1563 [==============================] - 11s 7ms/step - loss: 1.3076 - accuracy: 0.6065 - val_loss: 1.2627 - val_accuracy: 0.6133\n",
            "Epoch 16/50\n",
            "1563/1563 [==============================] - 10s 7ms/step - loss: 1.2868 - accuracy: 0.6166 - val_loss: 1.2359 - val_accuracy: 0.6349\n",
            "Epoch 17/50\n",
            "1563/1563 [==============================] - 10s 7ms/step - loss: 1.2639 - accuracy: 0.6267 - val_loss: 1.2020 - val_accuracy: 0.6327\n",
            "Epoch 18/50\n",
            "1563/1563 [==============================] - 10s 7ms/step - loss: 1.2406 - accuracy: 0.6349 - val_loss: 1.1544 - val_accuracy: 0.6554\n",
            "Epoch 19/50\n",
            "1563/1563 [==============================] - 11s 7ms/step - loss: 1.2259 - accuracy: 0.6395 - val_loss: 1.1786 - val_accuracy: 0.6571\n",
            "Epoch 20/50\n",
            "1563/1563 [==============================] - 10s 7ms/step - loss: 1.2019 - accuracy: 0.6492 - val_loss: 1.1643 - val_accuracy: 0.6540\n",
            "Epoch 21/50\n",
            "1563/1563 [==============================] - 11s 7ms/step - loss: 1.1893 - accuracy: 0.6566 - val_loss: 1.1584 - val_accuracy: 0.6596\n",
            "Epoch 22/50\n",
            "1563/1563 [==============================] - 10s 7ms/step - loss: 1.1778 - accuracy: 0.6608 - val_loss: 1.0980 - val_accuracy: 0.6829\n",
            "Epoch 23/50\n",
            "1563/1563 [==============================] - 10s 7ms/step - loss: 1.1581 - accuracy: 0.6675 - val_loss: 1.1140 - val_accuracy: 0.6808\n",
            "Epoch 24/50\n",
            "1563/1563 [==============================] - 11s 7ms/step - loss: 1.1369 - accuracy: 0.6766 - val_loss: 1.1179 - val_accuracy: 0.6825\n",
            "Epoch 25/50\n",
            "1563/1563 [==============================] - 11s 7ms/step - loss: 1.1313 - accuracy: 0.6804 - val_loss: 1.1541 - val_accuracy: 0.6727\n",
            "Epoch 26/50\n",
            "1563/1563 [==============================] - 11s 7ms/step - loss: 1.1138 - accuracy: 0.6878 - val_loss: 1.0728 - val_accuracy: 0.6909\n",
            "Epoch 27/50\n",
            "1563/1563 [==============================] - 10s 7ms/step - loss: 1.1046 - accuracy: 0.6898 - val_loss: 1.0835 - val_accuracy: 0.6945\n",
            "Epoch 28/50\n",
            "1563/1563 [==============================] - 11s 7ms/step - loss: 1.0838 - accuracy: 0.6983 - val_loss: 1.0515 - val_accuracy: 0.6961\n",
            "Epoch 29/50\n",
            "1563/1563 [==============================] - 11s 7ms/step - loss: 1.0751 - accuracy: 0.7007 - val_loss: 1.0496 - val_accuracy: 0.7048\n",
            "Epoch 30/50\n",
            "1563/1563 [==============================] - 10s 7ms/step - loss: 1.0569 - accuracy: 0.7059 - val_loss: 1.0828 - val_accuracy: 0.6971\n",
            "Epoch 31/50\n",
            "1563/1563 [==============================] - 11s 7ms/step - loss: 1.0502 - accuracy: 0.7114 - val_loss: 1.0799 - val_accuracy: 0.6988\n",
            "Epoch 32/50\n",
            "1563/1563 [==============================] - 11s 7ms/step - loss: 1.0369 - accuracy: 0.7149 - val_loss: 1.0439 - val_accuracy: 0.7024\n",
            "Epoch 33/50\n",
            "1563/1563 [==============================] - 11s 7ms/step - loss: 1.0272 - accuracy: 0.7186 - val_loss: 1.0386 - val_accuracy: 0.7060\n",
            "Epoch 34/50\n",
            "1563/1563 [==============================] - 11s 7ms/step - loss: 1.0186 - accuracy: 0.7234 - val_loss: 1.0626 - val_accuracy: 0.7041\n",
            "Epoch 35/50\n",
            "1563/1563 [==============================] - 10s 7ms/step - loss: 1.0119 - accuracy: 0.7260 - val_loss: 1.0767 - val_accuracy: 0.7082\n",
            "Epoch 36/50\n",
            "1563/1563 [==============================] - 10s 7ms/step - loss: 0.9980 - accuracy: 0.7297 - val_loss: 1.0151 - val_accuracy: 0.7231\n",
            "Epoch 37/50\n",
            "1563/1563 [==============================] - 10s 7ms/step - loss: 0.9924 - accuracy: 0.7310 - val_loss: 1.0807 - val_accuracy: 0.7010\n",
            "Epoch 38/50\n",
            "1563/1563 [==============================] - 10s 7ms/step - loss: 0.9799 - accuracy: 0.7365 - val_loss: 1.0275 - val_accuracy: 0.7158\n",
            "Epoch 39/50\n",
            "1563/1563 [==============================] - 11s 7ms/step - loss: 0.9650 - accuracy: 0.7396 - val_loss: 1.0232 - val_accuracy: 0.7277\n",
            "Epoch 40/50\n",
            "1563/1563 [==============================] - 11s 7ms/step - loss: 0.9622 - accuracy: 0.7431 - val_loss: 1.0616 - val_accuracy: 0.7085\n",
            "Epoch 41/50\n",
            "1563/1563 [==============================] - 11s 7ms/step - loss: 0.9618 - accuracy: 0.7458 - val_loss: 1.0204 - val_accuracy: 0.7247\n",
            "Epoch 42/50\n",
            "1563/1563 [==============================] - 10s 7ms/step - loss: 0.9404 - accuracy: 0.7509 - val_loss: 1.0778 - val_accuracy: 0.7125\n",
            "Epoch 43/50\n",
            "1563/1563 [==============================] - 11s 7ms/step - loss: 0.9375 - accuracy: 0.7509 - val_loss: 1.0690 - val_accuracy: 0.7014\n",
            "Epoch 44/50\n",
            "1563/1563 [==============================] - 10s 7ms/step - loss: 0.9303 - accuracy: 0.7546 - val_loss: 1.0459 - val_accuracy: 0.7124\n",
            "Epoch 45/50\n",
            "1563/1563 [==============================] - 10s 7ms/step - loss: 0.9258 - accuracy: 0.7555 - val_loss: 1.0385 - val_accuracy: 0.7259\n",
            "Epoch 46/50\n",
            "1563/1563 [==============================] - 11s 7ms/step - loss: 0.9178 - accuracy: 0.7601 - val_loss: 1.0348 - val_accuracy: 0.7261\n",
            "Epoch 47/50\n",
            "1563/1563 [==============================] - 10s 7ms/step - loss: 0.9093 - accuracy: 0.7628 - val_loss: 1.0274 - val_accuracy: 0.7368\n",
            "Epoch 48/50\n",
            "1563/1563 [==============================] - 10s 7ms/step - loss: 0.8973 - accuracy: 0.7643 - val_loss: 1.0271 - val_accuracy: 0.7178\n",
            "Epoch 49/50\n",
            "1563/1563 [==============================] - 10s 7ms/step - loss: 0.8937 - accuracy: 0.7701 - val_loss: 1.0131 - val_accuracy: 0.7391\n",
            "Epoch 50/50\n",
            "1563/1563 [==============================] - 11s 7ms/step - loss: 0.8885 - accuracy: 0.7682 - val_loss: 1.0096 - val_accuracy: 0.7378\n"
          ]
        }
      ]
    },
    {
      "cell_type": "code",
      "source": [
        "loss = history.history['loss']\n",
        "val_loss = history.history['val_loss']\n",
        "accuracy = history.history['accuracy']\n",
        "val_accuracy = history.history['val_accuracy']\n",
        "\n",
        "plt.plot(loss, label='train_loss')\n",
        "plt.plot(val_loss, label='val_loss')\n",
        "plt.legend()\n",
        "plt.figure()\n",
        "plt.plot(accuracy, label='accuracy')\n",
        "plt.plot(val_accuracy, label='val_accuracy')\n",
        "plt.legend()\n"
      ],
      "metadata": {
        "id": "eTC3I2-CoBaP",
        "colab": {
          "base_uri": "https://localhost:8080/",
          "height": 533
        },
        "outputId": "ed20ccd3-a0ec-4b6c-bc42-961ed0568cc6"
      },
      "execution_count": null,
      "outputs": [
        {
          "output_type": "execute_result",
          "data": {
            "text/plain": [
              "<matplotlib.legend.Legend at 0x7f61f219ed50>"
            ]
          },
          "metadata": {},
          "execution_count": 61
        },
        {
          "output_type": "display_data",
          "data": {
            "text/plain": [
              "<Figure size 432x288 with 1 Axes>"
            ],
            "image/png": "[encoded data removed]"
          },
          "metadata": {
            "needs_background": "light"
          }
        },
        {
          "output_type": "display_data",
          "data": {
            "text/plain": [
              "<Figure size 432x288 with 1 Axes>"
            ],
            "image/png": "[encoded data removed]"
          },
          "metadata": {
            "needs_background": "light"
          }
        }
      ]
    },
    {
      "cell_type": "markdown",
      "source": [
        "Save model\n",
        "---\n",
        "\n"
      ],
      "metadata": {
        "id": "57ZPi2fVysb1"
      }
    },
    {
      "cell_type": "code",
      "source": [
        "#model.save('model_1.h5')"
      ],
      "metadata": {
        "id": "R98RaTtXyvjS"
      },
      "execution_count": null,
      "outputs": []
    },
    {
      "cell_type": "code",
      "source": [
        "from keras.models import load_model\n",
        "model2 = load_model('model_1.h5')"
      ],
      "metadata": {
        "id": "m851tao6GqGj",
        "colab": {
          "base_uri": "https://localhost:8080/",
          "height": 328
        },
        "outputId": "70e785b6-5cd5-4277-fd7d-411ce3cc08d4"
      },
      "execution_count": null,
      "outputs": [
        {
          "output_type": "error",
          "ename": "OSError",
          "evalue": "ignored",
          "traceback": [
            "\u001b[0;31m---------------------------------------------------------------------------\u001b[0m",
            "\u001b[0;31mOSError\u001b[0m                                   Traceback (most recent call last)",
            "\u001b[0;32m<ipython-input-63-4b7c416599e6>\u001b[0m in \u001b[0;36m<module>\u001b[0;34m\u001b[0m\n\u001b[1;32m      1\u001b[0m \u001b[0;32mfrom\u001b[0m \u001b[0mkeras\u001b[0m\u001b[0;34m.\u001b[0m\u001b[0mmodels\u001b[0m \u001b[0;32mimport\u001b[0m \u001b[0mload_model\u001b[0m\u001b[0;34m\u001b[0m\u001b[0;34m\u001b[0m\u001b[0m\n\u001b[0;32m----> 2\u001b[0;31m \u001b[0mmodel2\u001b[0m \u001b[0;34m=\u001b[0m \u001b[0mload_model\u001b[0m\u001b[0;34m(\u001b[0m\u001b[0;34m'model_1.h5'\u001b[0m\u001b[0;34m)\u001b[0m\u001b[0;34m\u001b[0m\u001b[0;34m\u001b[0m\u001b[0m\n\u001b[0m",
            "\u001b[0;32m/usr/local/lib/python3.7/dist-packages/keras/utils/traceback_utils.py\u001b[0m in \u001b[0;36merror_handler\u001b[0;34m(*args, **kwargs)\u001b[0m\n\u001b[1;32m     65\u001b[0m     \u001b[0;32mexcept\u001b[0m \u001b[0mException\u001b[0m \u001b[0;32mas\u001b[0m \u001b[0me\u001b[0m\u001b[0;34m:\u001b[0m  \u001b[0;31m# pylint: disable=broad-except\u001b[0m\u001b[0;34m\u001b[0m\u001b[0;34m\u001b[0m\u001b[0m\n\u001b[1;32m     66\u001b[0m       \u001b[0mfiltered_tb\u001b[0m \u001b[0;34m=\u001b[0m \u001b[0m_process_traceback_frames\u001b[0m\u001b[0;34m(\u001b[0m\u001b[0me\u001b[0m\u001b[0;34m.\u001b[0m\u001b[0m__traceback__\u001b[0m\u001b[0;34m)\u001b[0m\u001b[0;34m\u001b[0m\u001b[0;34m\u001b[0m\u001b[0m\n\u001b[0;32m---> 67\u001b[0;31m       \u001b[0;32mraise\u001b[0m \u001b[0me\u001b[0m\u001b[0;34m.\u001b[0m\u001b[0mwith_traceback\u001b[0m\u001b[0;34m(\u001b[0m\u001b[0mfiltered_tb\u001b[0m\u001b[0;34m)\u001b[0m \u001b[0;32mfrom\u001b[0m \u001b[0;32mNone\u001b[0m\u001b[0;34m\u001b[0m\u001b[0;34m\u001b[0m\u001b[0m\n\u001b[0m\u001b[1;32m     68\u001b[0m     \u001b[0;32mfinally\u001b[0m\u001b[0;34m:\u001b[0m\u001b[0;34m\u001b[0m\u001b[0;34m\u001b[0m\u001b[0m\n\u001b[1;32m     69\u001b[0m       \u001b[0;32mdel\u001b[0m \u001b[0mfiltered_tb\u001b[0m\u001b[0;34m\u001b[0m\u001b[0;34m\u001b[0m\u001b[0m\n",
            "\u001b[0;32m/usr/local/lib/python3.7/dist-packages/keras/saving/save.py\u001b[0m in \u001b[0;36mload_model\u001b[0;34m(filepath, custom_objects, compile, options)\u001b[0m\n\u001b[1;32m    204\u001b[0m         \u001b[0;32mif\u001b[0m \u001b[0misinstance\u001b[0m\u001b[0;34m(\u001b[0m\u001b[0mfilepath_str\u001b[0m\u001b[0;34m,\u001b[0m \u001b[0mstr\u001b[0m\u001b[0;34m)\u001b[0m\u001b[0;34m:\u001b[0m\u001b[0;34m\u001b[0m\u001b[0;34m\u001b[0m\u001b[0m\n\u001b[1;32m    205\u001b[0m           \u001b[0;32mif\u001b[0m \u001b[0;32mnot\u001b[0m \u001b[0mtf\u001b[0m\u001b[0;34m.\u001b[0m\u001b[0mio\u001b[0m\u001b[0;34m.\u001b[0m\u001b[0mgfile\u001b[0m\u001b[0;34m.\u001b[0m\u001b[0mexists\u001b[0m\u001b[0;34m(\u001b[0m\u001b[0mfilepath_str\u001b[0m\u001b[0;34m)\u001b[0m\u001b[0;34m:\u001b[0m\u001b[0;34m\u001b[0m\u001b[0;34m\u001b[0m\u001b[0m\n\u001b[0;32m--> 206\u001b[0;31m             \u001b[0;32mraise\u001b[0m \u001b[0mIOError\u001b[0m\u001b[0;34m(\u001b[0m\u001b[0;34mf'No file or directory found at {filepath_str}'\u001b[0m\u001b[0;34m)\u001b[0m\u001b[0;34m\u001b[0m\u001b[0;34m\u001b[0m\u001b[0m\n\u001b[0m\u001b[1;32m    207\u001b[0m \u001b[0;34m\u001b[0m\u001b[0m\n\u001b[1;32m    208\u001b[0m           \u001b[0;32mif\u001b[0m \u001b[0mtf\u001b[0m\u001b[0;34m.\u001b[0m\u001b[0mio\u001b[0m\u001b[0;34m.\u001b[0m\u001b[0mgfile\u001b[0m\u001b[0;34m.\u001b[0m\u001b[0misdir\u001b[0m\u001b[0;34m(\u001b[0m\u001b[0mfilepath_str\u001b[0m\u001b[0;34m)\u001b[0m\u001b[0;34m:\u001b[0m\u001b[0;34m\u001b[0m\u001b[0;34m\u001b[0m\u001b[0m\n",
            "\u001b[0;31mOSError\u001b[0m: No file or directory found at model_1.h5"
          ]
        }
      ]
    }
  ]
}