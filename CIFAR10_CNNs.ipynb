{
  "nbformat": 4,
  "nbformat_minor": 0,
  "metadata": {
    "colab": {
      "provenance": []
    },
    "kernelspec": {
      "name": "python3",
      "display_name": "Python 3"
    },
    "language_info": {
      "name": "python"
    },
    "accelerator": "GPU",
    "gpuClass": "standard"
  },
  "cells": [
    {
      "cell_type": "code",
      "execution_count": null,
      "metadata": {
        "id": "QQQ02AE3ZU63"
      },
      "outputs": [],
      "source": [
        "import tensorflow as tf\n",
        "from tensorflow import keras\n",
        "import numpy as np\n",
        "import matplotlib.pyplot as plt"
      ]
    },
    {
      "cell_type": "markdown",
      "source": [
        "Import data:"
      ],
      "metadata": {
        "id": "sLgoTlSMauae"
      }
    },
    {
      "cell_type": "markdown",
      "source": [
        "https://keras.io/api/datasets/cifar10/"
      ],
      "metadata": {
        "id": "0NR3gmmXgM_a"
      }
    },
    {
      "cell_type": "code",
      "source": [
        "cifar10 = keras.datasets.cifar10"
      ],
      "metadata": {
        "id": "jJ58uJjCZt95"
      },
      "execution_count": null,
      "outputs": []
    },
    {
      "cell_type": "code",
      "source": [
        "(x_train, y_train), (x_val, y_val) = cifar10.load_data()"
      ],
      "metadata": {
        "colab": {
          "base_uri": "https://localhost:8080/"
        },
        "id": "D1hPmQKZZ2Xy",
        "outputId": "c68ce20e-b2f7-4d5f-ebb1-00e499c87e31"
      },
      "execution_count": null,
      "outputs": [
        {
          "output_type": "stream",
          "name": "stdout",
          "text": [
            "Downloading data from https://www.cs.toronto.edu/~kriz/cifar-10-python.tar.gz\n",
            "170498071/170498071 [==============================] - 14s 0us/step\n"
          ]
        }
      ]
    },
    {
      "cell_type": "markdown",
      "source": [
        "Explore data:"
      ],
      "metadata": {
        "id": "Y8oikV_ba0o7"
      }
    },
    {
      "cell_type": "code",
      "source": [
        "print(x_train.shape)\n",
        "print(y_train.shape)\n",
        "print(x_val.shape)\n",
        "print(y_val.shape)"
      ],
      "metadata": {
        "colab": {
          "base_uri": "https://localhost:8080/"
        },
        "id": "hQxUSZmxa2-K",
        "outputId": "bab3d631-4aa7-46d8-ee53-e0d69f460ec7"
      },
      "execution_count": null,
      "outputs": [
        {
          "output_type": "stream",
          "name": "stdout",
          "text": [
            "(50000, 32, 32, 3)\n",
            "(50000, 1)\n",
            "(10000, 32, 32, 3)\n",
            "(10000, 1)\n"
          ]
        }
      ]
    },
    {
      "cell_type": "markdown",
      "source": [
        "Data augmentation:"
      ],
      "metadata": {
        "id": "czrtiJ_C6CqG"
      }
    },
    {
      "cell_type": "code",
      "source": [
        "from keras.preprocessing.image import ImageDataGenerator\n",
        "\n",
        "datagen = ImageDataGenerator(\n",
        "    rotation_range=15,\n",
        "    horizontal_flip=True,\n",
        "    width_shift_range=0.1,\n",
        "    height_shift_range=0.1\n",
        "    )\n",
        "\n",
        "datagen.fit(x_train)"
      ],
      "metadata": {
        "id": "F9kzceDc6HeK"
      },
      "execution_count": null,
      "outputs": []
    },
    {
      "cell_type": "markdown",
      "source": [
        "Create test and validation sets:"
      ],
      "metadata": {
        "id": "Schd3kZabxt7"
      }
    },
    {
      "cell_type": "code",
      "source": [
        "test_size = 2000\n",
        "x_test, y_test = x_val[-test_size:], y_val[-test_size:]\n",
        "x_val, y_val = x_val[:-test_size], y_val[:-test_size]"
      ],
      "metadata": {
        "id": "qdBqHxMOb2cA"
      },
      "execution_count": null,
      "outputs": []
    },
    {
      "cell_type": "code",
      "source": [
        "print(x_train.shape)\n",
        "print(y_train.shape)\n",
        "print(x_val.shape)\n",
        "print(y_val.shape)\n",
        "print(x_test.shape)\n",
        "print(y_test.shape)"
      ],
      "metadata": {
        "colab": {
          "base_uri": "https://localhost:8080/"
        },
        "id": "wcko1RLreXht",
        "outputId": "f74f731a-65fd-46e1-9729-049c24cbb09e"
      },
      "execution_count": null,
      "outputs": [
        {
          "output_type": "stream",
          "name": "stdout",
          "text": [
            "(50000, 32, 32, 3)\n",
            "(50000, 1)\n",
            "(8000, 32, 32, 3)\n",
            "(8000, 1)\n",
            "(2000, 32, 32, 3)\n",
            "(2000, 1)\n"
          ]
        }
      ]
    },
    {
      "cell_type": "code",
      "source": [
        "plt.imshow(x_train[3])"
      ],
      "metadata": {
        "colab": {
          "base_uri": "https://localhost:8080/",
          "height": 284
        },
        "id": "HG2iW1ShfEpX",
        "outputId": "582becc2-81ae-4f40-c810-7a401601a8be"
      },
      "execution_count": null,
      "outputs": [
        {
          "output_type": "execute_result",
          "data": {
            "text/plain": [
              "<matplotlib.image.AxesImage at 0x7f460460b3d0>"
            ]
          },
          "metadata": {},
          "execution_count": 8
        },
        {
          "output_type": "display_data",
          "data": {
            "text/plain": [
              "<Figure size 432x288 with 1 Axes>"
            ],
            "image/png": "[encoded data removed]"
          },
          "metadata": {
            "needs_background": "light"
          }
        }
      ]
    },
    {
      "cell_type": "code",
      "source": [
        "y_train[0]"
      ],
      "metadata": {
        "colab": {
          "base_uri": "https://localhost:8080/"
        },
        "id": "rorgdHDxf28t",
        "outputId": "47415c2d-69d7-4662-f19a-ff4263534b34"
      },
      "execution_count": null,
      "outputs": [
        {
          "output_type": "execute_result",
          "data": {
            "text/plain": [
              "array([6], dtype=uint8)"
            ]
          },
          "metadata": {},
          "execution_count": 9
        }
      ]
    },
    {
      "cell_type": "markdown",
      "source": [
        "Pre-processing:"
      ],
      "metadata": {
        "id": "71p6j3R9anv8"
      }
    },
    {
      "cell_type": "code",
      "source": [
        "x_train, x_val, x_test = x_train/255, x_val/255, x_test/255"
      ],
      "metadata": {
        "id": "TW5zz8pSaGQw"
      },
      "execution_count": null,
      "outputs": []
    },
    {
      "cell_type": "code",
      "source": [
        "labels_dic = {0:'airplane', 1:'car', 2:'bird', 3:'cat', 4:'deer',\n",
        "              5:'dog', 6:'frog', 7:'horse', 8:'ship', 9:'truck' }\n",
        "print(labels_dic[0])"
      ],
      "metadata": {
        "colab": {
          "base_uri": "https://localhost:8080/"
        },
        "id": "zrQS8bUGfg-f",
        "outputId": "d48dec5f-a7cb-4e5c-acf8-de1abe67eb44"
      },
      "execution_count": null,
      "outputs": [
        {
          "output_type": "stream",
          "name": "stdout",
          "text": [
            "airplane\n"
          ]
        }
      ]
    },
    {
      "cell_type": "markdown",
      "source": [
        "Classifer:"
      ],
      "metadata": {
        "id": "XldpmMVxhoph"
      }
    },
    {
      "cell_type": "code",
      "source": [
        "from keras.layers import Conv2D, MaxPool2D, Flatten, Dense, Dropout, RandomFlip, BatchNormalization\n",
        "from keras.regularizers import l2\n",
        "\n",
        "reg_rate = 0.002\n",
        "\n",
        "# baseline model\n",
        "model = keras.Sequential()\n",
        "\n",
        "model.add(RandomFlip(\"horizontal_and_vertical\", input_shape=(32,32,3)))\n",
        "\n",
        "model.add(Conv2D(64, 3, padding='same', activation='relu'))\n",
        "BatchNormalization()\n",
        "model.add(Conv2D(64, 3, padding='same', activation='relu'))\n",
        "BatchNormalization()\n",
        "model.add(MaxPool2D(4))\n",
        "\n",
        "model.add(Conv2D(128, 3, activation='relu'))\n",
        "BatchNormalization()\n",
        "model.add(Conv2D(128, 3, activation='relu'))\n",
        "BatchNormalization()\n",
        "model.add(MaxPool2D(2))\n",
        "\n",
        "\n",
        "model.add(Conv2D(256, 3, padding='same', activation='relu'))\n",
        "BatchNormalization()\n",
        "model.add(Conv2D(256, 3, padding='same', activation='relu'))\n",
        "BatchNormalization()\n",
        "model.add(MaxPool2D(2))\n",
        "\n",
        "model.add(Flatten())\n",
        "\n",
        "model.add(Dense(256, activation='relu', kernel_regularizer=l2(reg_rate)))\n",
        "BatchNormalization\n",
        "model.add(Dropout(0.3))\n",
        "\n",
        "model.add(Dense(128, activation='relu', kernel_regularizer=l2(reg_rate)))\n",
        "BatchNormalization()\n",
        "model.add(Dropout(0.3))\n",
        "\n",
        "model.add(Dense(10, activation='softmax'))\n",
        "\n",
        "model.summary()"
      ],
      "metadata": {
        "colab": {
          "base_uri": "https://localhost:8080/"
        },
        "id": "EJPrWmZLagr9",
        "outputId": "741d5f41-ee8f-4fef-a114-1697aadd1973"
      },
      "execution_count": null,
      "outputs": [
        {
          "output_type": "stream",
          "name": "stdout",
          "text": [
            "Model: \"sequential\"\n",
            "_________________________________________________________________\n",
            " Layer (type)                Output Shape              Param #   \n",
            "=================================================================\n",
            " random_flip (RandomFlip)    (None, 32, 32, 3)         0         \n",
            "                                                                 \n",
            " conv2d (Conv2D)             (None, 32, 32, 64)        1792      \n",
            "                                                                 \n",
            " conv2d_1 (Conv2D)           (None, 32, 32, 64)        36928     \n",
            "                                                                 \n",
            " max_pooling2d (MaxPooling2D  (None, 8, 8, 64)         0         \n",
            " )                                                               \n",
            "                                                                 \n",
            " conv2d_2 (Conv2D)           (None, 6, 6, 128)         73856     \n",
            "                                                                 \n",
            " conv2d_3 (Conv2D)           (None, 4, 4, 128)         147584    \n",
            "                                                                 \n",
            " max_pooling2d_1 (MaxPooling  (None, 2, 2, 128)        0         \n",
            " 2D)                                                             \n",
            "                                                                 \n",
            " conv2d_4 (Conv2D)           (None, 2, 2, 256)         295168    \n",
            "                                                                 \n",
            " conv2d_5 (Conv2D)           (None, 2, 2, 256)         590080    \n",
            "                                                                 \n",
            " max_pooling2d_2 (MaxPooling  (None, 1, 1, 256)        0         \n",
            " 2D)                                                             \n",
            "                                                                 \n",
            " flatten (Flatten)           (None, 256)               0         \n",
            "                                                                 \n",
            " dense (Dense)               (None, 256)               65792     \n",
            "                                                                 \n",
            " dropout (Dropout)           (None, 256)               0         \n",
            "                                                                 \n",
            " dense_1 (Dense)             (None, 128)               32896     \n",
            "                                                                 \n",
            " dropout_1 (Dropout)         (None, 128)               0         \n",
            "                                                                 \n",
            " dense_2 (Dense)             (None, 10)                1290      \n",
            "                                                                 \n",
            "=================================================================\n",
            "Total params: 1,245,386\n",
            "Trainable params: 1,245,386\n",
            "Non-trainable params: 0\n",
            "_________________________________________________________________\n"
          ]
        }
      ]
    },
    {
      "cell_type": "code",
      "source": [
        "loss = keras.losses.SparseCategoricalCrossentropy()\n",
        "optimizer = keras.optimizers.Adam()\n",
        "metrics = ['accuracy']\n",
        "model.compile(optimizer, loss, metrics)"
      ],
      "metadata": {
        "id": "Tbd4Rgrk4Suu"
      },
      "execution_count": null,
      "outputs": []
    },
    {
      "cell_type": "markdown",
      "source": [
        "Training:"
      ],
      "metadata": {
        "id": "khjXsA0o7OgO"
      }
    },
    {
      "cell_type": "code",
      "source": [
        "batch_size = 64\n",
        "epochs = 10\n",
        "\n",
        "history = model.fit(x_train, y_train, batch_size, epochs,\n",
        "                    validation_data=(x_val, y_val))\n",
        "\n",
        "# history = model.fit(datagen.flow(x_train, y_train, batch_size),\n",
        "#                               steps_per_epoch=len(x_train)/batch_size,\n",
        "#                               epochs=epochs,\n",
        "#                               validation_data=(x_val, y_val))"
      ],
      "metadata": {
        "colab": {
          "base_uri": "https://localhost:8080/"
        },
        "id": "P5w_QxvR7L_a",
        "outputId": "727348f3-48bb-4ade-f887-b6bc286a8552"
      },
      "execution_count": null,
      "outputs": [
        {
          "output_type": "stream",
          "name": "stdout",
          "text": [
            "Epoch 1/10\n",
            "782/782 [==============================] - 58s 62ms/step - loss: 2.0519 - accuracy: 0.1917 - val_loss: 1.8836 - val_accuracy: 0.2569\n",
            "Epoch 2/10\n",
            "782/782 [==============================] - 47s 60ms/step - loss: 1.6905 - accuracy: 0.3448 - val_loss: 1.4811 - val_accuracy: 0.4301\n",
            "Epoch 3/10\n",
            "782/782 [==============================] - 45s 58ms/step - loss: 1.4293 - accuracy: 0.4766 - val_loss: 1.3229 - val_accuracy: 0.5249\n",
            "Epoch 4/10\n",
            "782/782 [==============================] - 45s 58ms/step - loss: 1.2621 - accuracy: 0.5550 - val_loss: 1.2129 - val_accuracy: 0.5619\n",
            "Epoch 5/10\n",
            "782/782 [==============================] - 45s 58ms/step - loss: 1.1462 - accuracy: 0.6045 - val_loss: 1.0860 - val_accuracy: 0.6310\n",
            "Epoch 6/10\n",
            "782/782 [==============================] - 47s 60ms/step - loss: 1.0681 - accuracy: 0.6336 - val_loss: 1.0452 - val_accuracy: 0.6417\n",
            "Epoch 7/10\n",
            "782/782 [==============================] - 46s 59ms/step - loss: 1.0091 - accuracy: 0.6560 - val_loss: 1.0190 - val_accuracy: 0.6532\n",
            "Epoch 8/10\n",
            "782/782 [==============================] - 46s 59ms/step - loss: 0.9533 - accuracy: 0.6765 - val_loss: 0.9358 - val_accuracy: 0.6806\n",
            "Epoch 9/10\n",
            "782/782 [==============================] - 47s 60ms/step - loss: 0.9163 - accuracy: 0.6891 - val_loss: 0.9530 - val_accuracy: 0.6819\n",
            "Epoch 10/10\n",
            "782/782 [==============================] - 47s 60ms/step - loss: 0.8862 - accuracy: 0.7023 - val_loss: 0.9353 - val_accuracy: 0.6860\n"
          ]
        }
      ]
    },
    {
      "cell_type": "markdown",
      "source": [
        "Plot loss and accuracy plots:"
      ],
      "metadata": {
        "id": "oZ9B_JZAIxZX"
      }
    },
    {
      "cell_type": "code",
      "source": [
        "loss = history.history['loss']\n",
        "accuracy = history.history['accuracy']\n",
        "\n",
        "val_loss = history.history['val_loss']\n",
        "val_accuracy = history.history['val_accuracy']\n",
        "\n",
        "plt.plot(loss, label='train_loss')\n",
        "plt.plot(val_loss, label='val_loss')\n",
        "plt.legend()\n",
        "\n",
        "plt.figure()\n",
        "\n",
        "plt.plot(accuracy, label='train_acc')\n",
        "plt.plot(val_accuracy, label='val_acc')\n",
        "plt.legend()"
      ],
      "metadata": {
        "id": "9U4ZvdQc8Bsu",
        "colab": {
          "base_uri": "https://localhost:8080/",
          "height": 531
        },
        "outputId": "76dbce63-9f42-4ffb-8bbf-01baca24ef97"
      },
      "execution_count": null,
      "outputs": [
        {
          "output_type": "execute_result",
          "data": {
            "text/plain": [
              "<matplotlib.legend.Legend at 0x7f459d63eb10>"
            ]
          },
          "metadata": {},
          "execution_count": 15
        },
        {
          "output_type": "display_data",
          "data": {
            "text/plain": [
              "<Figure size 432x288 with 1 Axes>"
            ],
            "image/png": "[encoded data removed]"
          },
          "metadata": {
            "needs_background": "light"
          }
        },
        {
          "output_type": "display_data",
          "data": {
            "text/plain": [
              "<Figure size 432x288 with 1 Axes>"
            ],
            "image/png": "[encoded data removed]"
          },
          "metadata": {
            "needs_background": "light"
          }
        }
      ]
    },
    {
      "cell_type": "markdown",
      "source": [
        "Model evaluation:"
      ],
      "metadata": {
        "id": "fxzerWb1J89u"
      }
    },
    {
      "cell_type": "code",
      "source": [
        "model.evaluate(x_test, y_test)"
      ],
      "metadata": {
        "id": "dEjeJHMVJ_g4",
        "colab": {
          "base_uri": "https://localhost:8080/"
        },
        "outputId": "e36a317d-65e3-4289-849c-c6da5c793291"
      },
      "execution_count": null,
      "outputs": [
        {
          "output_type": "stream",
          "name": "stdout",
          "text": [
            "63/63 [==============================] - 1s 4ms/step - loss: 0.9383 - accuracy: 0.6810\n"
          ]
        },
        {
          "output_type": "execute_result",
          "data": {
            "text/plain": [
              "[0.9383194446563721, 0.6809999942779541]"
            ]
          },
          "metadata": {},
          "execution_count": 16
        }
      ]
    },
    {
      "cell_type": "markdown",
      "source": [
        "Prediction:"
      ],
      "metadata": {
        "id": "QoZPsO1alu4Y"
      }
    },
    {
      "cell_type": "code",
      "source": [
        "x_test[0].shape"
      ],
      "metadata": {
        "colab": {
          "base_uri": "https://localhost:8080/"
        },
        "id": "D2UKh_ylnh_2",
        "outputId": "1190ddda-bb45-4317-b3e9-76324202a7b3"
      },
      "execution_count": null,
      "outputs": [
        {
          "output_type": "execute_result",
          "data": {
            "text/plain": [
              "(32, 32, 3)"
            ]
          },
          "metadata": {},
          "execution_count": 17
        }
      ]
    },
    {
      "cell_type": "code",
      "source": [
        "x_pred = np.expand_dims(x_test[0], axis=0)"
      ],
      "metadata": {
        "id": "4c_a7gpzlyrO"
      },
      "execution_count": null,
      "outputs": []
    },
    {
      "cell_type": "code",
      "source": [
        "x_pred.shape"
      ],
      "metadata": {
        "colab": {
          "base_uri": "https://localhost:8080/"
        },
        "id": "jjkuU7pdnZst",
        "outputId": "91483f95-0330-4576-85f4-f5ab2006b518"
      },
      "execution_count": null,
      "outputs": [
        {
          "output_type": "execute_result",
          "data": {
            "text/plain": [
              "(1, 32, 32, 3)"
            ]
          },
          "metadata": {},
          "execution_count": 19
        }
      ]
    },
    {
      "cell_type": "code",
      "source": [
        "y_pred = np.argmin(model.predict(x_pred))\n",
        "# print(np.argmin(y_pred))"
      ],
      "metadata": {
        "colab": {
          "base_uri": "https://localhost:8080/"
        },
        "id": "RtMDr3abns6q",
        "outputId": "7d6305a8-e9a8-469a-f4b1-593aea62d01c"
      },
      "execution_count": null,
      "outputs": [
        {
          "output_type": "stream",
          "name": "stdout",
          "text": [
            "1/1 [==============================] - 0s 220ms/step\n"
          ]
        }
      ]
    },
    {
      "cell_type": "code",
      "source": [
        "y_pred.shape"
      ],
      "metadata": {
        "colab": {
          "base_uri": "https://localhost:8080/"
        },
        "id": "3qzYoWsJolOj",
        "outputId": "15abcd2d-4c4b-40c5-da00-b7f478923fb4"
      },
      "execution_count": null,
      "outputs": [
        {
          "output_type": "execute_result",
          "data": {
            "text/plain": [
              "()"
            ]
          },
          "metadata": {},
          "execution_count": 21
        }
      ]
    },
    {
      "cell_type": "code",
      "source": [
        "y_test[0][0]"
      ],
      "metadata": {
        "colab": {
          "base_uri": "https://localhost:8080/"
        },
        "id": "Vcv8NkOireqN",
        "outputId": "0d27c2ca-e6f0-4a8c-b3c1-0fe368cae9be"
      },
      "execution_count": null,
      "outputs": [
        {
          "output_type": "execute_result",
          "data": {
            "text/plain": [
              "9"
            ]
          },
          "metadata": {},
          "execution_count": 22
        }
      ]
    },
    {
      "cell_type": "code",
      "source": [
        "y_pred_class = labels_dic[y_pred]\n",
        "print('prediction:', y_pred_class)\n",
        "\n",
        "print('ground truth:', labels_dic[y_test[0][0]])"
      ],
      "metadata": {
        "id": "L9PxHYuyoDkF",
        "colab": {
          "base_uri": "https://localhost:8080/"
        },
        "outputId": "61ec15a1-8e49-4635-f9e3-23481cee2deb"
      },
      "execution_count": null,
      "outputs": [
        {
          "output_type": "stream",
          "name": "stdout",
          "text": [
            "prediction: frog\n",
            "ground truth: truck\n"
          ]
        }
      ]
    },
    {
      "cell_type": "markdown",
      "source": [
        "Save model:"
      ],
      "metadata": {
        "id": "m9Dbet3pl77s"
      }
    },
    {
      "cell_type": "code",
      "source": [
        "model.save('model2.h5')"
      ],
      "metadata": {
        "id": "6EdH5QC2l-H_"
      },
      "execution_count": null,
      "outputs": []
    },
    {
      "cell_type": "code",
      "source": [
        "from keras.models import load_model\n",
        "\n",
        "# m = load_model('model1.h5')"
      ],
      "metadata": {
        "id": "hZl3VgIssDGc"
      },
      "execution_count": null,
      "outputs": []
    }
  ]
}